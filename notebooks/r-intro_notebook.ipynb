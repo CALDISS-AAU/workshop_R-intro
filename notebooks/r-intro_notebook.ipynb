{
 "cells": [
  {
   "cell_type": "code",
   "execution_count": 1,
   "metadata": {
    "slideshow": {
     "slide_type": "skip"
    }
   },
   "outputs": [],
   "source": [
    "#prep\n",
    "my_name <- \"kenobi\"\n",
    "my_num1 <- 42 \n",
    "my_num2 <- \"42\"\n",
    "my_calc <- 42 * 42"
   ]
  },
  {
   "cell_type": "markdown",
   "metadata": {
    "slideshow": {
     "slide_type": "slide"
    }
   },
   "source": [
    "# Introduction\n",
    "## What is R and why use it?\n",
    "\n",
    "R is a free software environment with its own programming language. \n",
    "\n",
    "It is especailly suited for statistical analysis and graphical outputs.\n",
    "\n",
    "R's popularity as a data science tool as well as it being open source has made its applications vast.\n",
    "\n",
    "R can work with a large variety of data formats and is (with a few add-ons) compatible with data from other software solutions (Excel, SPSS, SAS, STATA)."
   ]
  },
  {
   "cell_type": "markdown",
   "metadata": {
    "slideshow": {
     "slide_type": "slide"
    }
   },
   "source": [
    "## A Short Demo\n",
    "\n",
    "(demo on R Studio server)"
   ]
  },
  {
   "cell_type": "markdown",
   "metadata": {
    "slideshow": {
     "slide_type": "slide"
    }
   },
   "source": [
    "## Content of the R introduction\n",
    "\n",
    "- The R language\n",
    "- The RStudio environment\n",
    "- Constructing variables and objects\n",
    "- Working with tables (dataframes)\n",
    "- Using the help command\n",
    "- Libraries/packages\n",
    "- Importing data (csv, excel)\n",
    "- Simple visualizations (`ggplot2` package)\n",
    "\n",
    "The introduction will combine presenting R and R code in Jupyter Notebook while demonstrating in RStudio. You are encouraged to work and write in RStudio during the workshop.\n",
    "\n",
    "*Please write along as we go through the different examples.*"
   ]
  },
  {
   "cell_type": "markdown",
   "metadata": {
    "slideshow": {
     "slide_type": "slide"
    }
   },
   "source": [
    "## The RStudio environment\n",
    "\n",
    "During the workshop (and the other R workshops in CALDISS), we will be working with RStudio.\n",
    "\n",
    "RStudio is an IDE for R (Integrated Development Environment) - Makes for a nicer workspace\n",
    "\n",
    "<https://www.rstudio.com/products/rstudio/download/>"
   ]
  },
  {
   "cell_type": "markdown",
   "metadata": {
    "slideshow": {
     "slide_type": "slide"
    }
   },
   "source": [
    "# The R language\n",
    "R has it's own programming language. R works by you writing lines of code in that language (writing commands) and R interpreting that code (running commands).\n",
    "\n",
    "R (and RStudio) has a limited user interface meaning almost all functionality (statistics, plots, simulations etc.) must be executed using code in the R language.\n",
    "\n",
    "## R as a calculator\n",
    "So what does it mean that R interprets our code?\n",
    "It means that you tell R to do something by writing a command and R will do that (if R can understand you).\n",
    "\n",
    "R, for example, understands mathematical expressions:"
   ]
  },
  {
   "cell_type": "code",
   "execution_count": 2,
   "metadata": {
    "slideshow": {
     "slide_type": "fragment"
    }
   },
   "outputs": [
    {
     "data": {
      "text/html": [
       "7"
      ],
      "text/latex": [
       "7"
      ],
      "text/markdown": [
       "7"
      ],
      "text/plain": [
       "[1] 7"
      ]
     },
     "metadata": {},
     "output_type": "display_data"
    }
   ],
   "source": [
    "2 + 5"
   ]
  },
  {
   "cell_type": "code",
   "execution_count": 3,
   "metadata": {
    "slideshow": {
     "slide_type": "fragment"
    }
   },
   "outputs": [
    {
     "data": {
      "text/html": [
       "94.72"
      ],
      "text/latex": [
       "94.72"
      ],
      "text/markdown": [
       "94.72"
      ],
      "text/plain": [
       "[1] 94.72"
      ]
     },
     "metadata": {},
     "output_type": "display_data"
    }
   ],
   "source": [
    "0.37 * 256"
   ]
  },
  {
   "cell_type": "markdown",
   "metadata": {
    "slideshow": {
     "slide_type": "slide"
    }
   },
   "source": [
    "# R scripts: For reproducability! \n",
    "Script files are text files containing code that R can interpret.\n",
    "\n",
    "It is your \"analysis recipe\" showing what you have done as well as allowing you to re-run commands easily.\n",
    "\n",
    "Always make a habit of writing your commands into a script, when you have the command figured out.\n",
    "\n",
    "- `#` can be used for comments (skipped when run)\n",
    "- `Ctrl` + `Enter`: Runs the current line or selection\n",
    "- `Ctrl` + `Alt` + `R`: Runs the whole script"
   ]
  },
  {
   "cell_type": "markdown",
   "metadata": {
    "slideshow": {
     "slide_type": "slide"
    }
   },
   "source": [
    "# The R Language: Objects and Functions\n",
    "R works by storing values in \"objects\". These objects can then be used in various commands like calculating a statistical model, saving a file, creating a graph and so on. To simplify a bit: An object is some kind of stored value and a function is something that can manipulate a stored value (which then creates a new object). \n",
    "\n",
    "Most of R can be boiled down to these 3 basic steps:\n",
    "\n",
    "1. Assign values to an object\n",
    "2. Make sure R interprets the object correctly (its class)\n",
    "3. Perfom some operation or manipulation on the object using a function"
   ]
  },
  {
   "cell_type": "markdown",
   "metadata": {
    "slideshow": {
     "slide_type": "fragment"
    }
   },
   "source": [
    "Translated to data analysis, the steps would (in general terms) look as follows:\n",
    "\n",
    "1. Load our dataset: `data <- read.csv(\"my_datafile.csv\")`\n",
    "2. Check the that the variables are the correct class: `class(data$age)`\n",
    "3. Perform some kind of analysis: `mean(data$age)`\n",
    "\n",
    "The gap between these steps of course vary greatly."
   ]
  },
  {
   "cell_type": "markdown",
   "metadata": {
    "slideshow": {
     "slide_type": "slide"
    }
   },
   "source": [
    "## Objects\n",
    "A lot of writing in R is about defining objects: A name to use to call up stored data.\n",
    "\n",
    "Objects can be a lot of things: \n",
    "- a word\n",
    "- a number\n",
    "- a series of numbers\n",
    "- a dataset \n",
    "- a URL\n",
    "- a formula\n",
    "- a result \n",
    "- a filepath\n",
    "- and so on...\n",
    "\n",
    "When an object is defined, it is available in the current working space (or environment).\n",
    "\n",
    "This makes it possible to store and work with a variety of informaiton simultaneously."
   ]
  },
  {
   "cell_type": "markdown",
   "metadata": {
    "slideshow": {
     "slide_type": "slide"
    }
   },
   "source": [
    "### Defining objects\n",
    "Objects are defined using the `<-` operator:"
   ]
  },
  {
   "cell_type": "code",
   "execution_count": 4,
   "metadata": {
    "slideshow": {
     "slide_type": "fragment"
    }
   },
   "outputs": [],
   "source": [
    "a <- 2 + 5"
   ]
  },
  {
   "cell_type": "code",
   "execution_count": 5,
   "metadata": {
    "slideshow": {
     "slide_type": "fragment"
    }
   },
   "outputs": [
    {
     "data": {
      "text/html": [
       "7"
      ],
      "text/latex": [
       "7"
      ],
      "text/markdown": [
       "7"
      ],
      "text/plain": [
       "[1] 7"
      ]
     },
     "metadata": {},
     "output_type": "display_data"
    }
   ],
   "source": [
    "a"
   ]
  },
  {
   "cell_type": "code",
   "execution_count": 6,
   "metadata": {
    "slideshow": {
     "slide_type": "fragment"
    }
   },
   "outputs": [],
   "source": [
    "b <- 'jedi'"
   ]
  },
  {
   "cell_type": "code",
   "execution_count": 7,
   "metadata": {
    "slideshow": {
     "slide_type": "fragment"
    }
   },
   "outputs": [
    {
     "data": {
      "text/html": [
       "'jedi'"
      ],
      "text/latex": [
       "'jedi'"
      ],
      "text/markdown": [
       "'jedi'"
      ],
      "text/plain": [
       "[1] \"jedi\""
      ]
     },
     "metadata": {},
     "output_type": "display_data"
    }
   ],
   "source": [
    "b"
   ]
  },
  {
   "cell_type": "markdown",
   "metadata": {
    "slideshow": {
     "slide_type": "-"
    }
   },
   "source": [
    "Using `' '` or `\" \"` denotes that the code should be read as text."
   ]
  },
  {
   "cell_type": "markdown",
   "metadata": {
    "slideshow": {
     "slide_type": "slide"
    }
   },
   "source": [
    "### Naming objects\n",
    "Objects can be named almost anything but a good rule of thumb is to use names that are indicative of what the object contains.\n",
    "\n",
    "#### Restrictions for naming objects\n",
    "- Most special characters not allowed: `/`, `?`, `*`, `+` and so on (most characters mean something to R and will be read as an expression)\n",
    "- Already existing names in R (will overwrite the function/object in the environment)\n",
    "\n",
    "#### Good naming conventions \n",
    "- Using '`_`': `my_object`, `room_number`\n",
    "\n",
    "or:\n",
    "\n",
    "- Capitalize each word except the first: `myObject`, `roomNumber`"
   ]
  },
  {
   "cell_type": "markdown",
   "metadata": {
    "slideshow": {
     "slide_type": "slide"
    }
   },
   "source": [
    "## Functions\n",
    "\n",
    "Functions are commands used to transform an object in some way and give an output.\n",
    "\n",
    "The input to a function is an \"arguement\". The number of arguements vary between function.\n",
    "\n",
    "Functions have the basic syntax: `function(arg1, arg2, arg3)`.\n",
    "\n",
    "Some arguements are required while others are optional."
   ]
  },
  {
   "cell_type": "code",
   "execution_count": 8,
   "metadata": {
    "slideshow": {
     "slide_type": "fragment"
    }
   },
   "outputs": [
    {
     "data": {
      "text/html": [
       "4"
      ],
      "text/latex": [
       "4"
      ],
      "text/markdown": [
       "4"
      ],
      "text/plain": [
       "[1] 4"
      ]
     },
     "metadata": {},
     "output_type": "display_data"
    }
   ],
   "source": [
    "b <- 'jedi'\n",
    "nchar(b) #Returns number of characters in object b"
   ]
  },
  {
   "cell_type": "markdown",
   "metadata": {
    "slideshow": {
     "slide_type": "fragment"
    }
   },
   "source": [
    "Most functions take the object as the first input but not all."
   ]
  },
  {
   "cell_type": "code",
   "execution_count": 9,
   "metadata": {
    "slideshow": {
     "slide_type": "fragment"
    }
   },
   "outputs": [
    {
     "data": {
      "text/html": [
       "'jadi'"
      ],
      "text/latex": [
       "'jadi'"
      ],
      "text/markdown": [
       "'jadi'"
      ],
      "text/plain": [
       "[1] \"jadi\""
      ]
     },
     "metadata": {},
     "output_type": "display_data"
    }
   ],
   "source": [
    "sub(\"e\", \"a\", b) #Replace first \"e\" character with \"a\" character"
   ]
  },
  {
   "cell_type": "markdown",
   "metadata": {
    "slideshow": {
     "slide_type": "slide"
    }
   },
   "source": [
    "### Functions and their outputs\n",
    "\n",
    "Note that functions almost *never* change the object. When calling functions you are asking R for a specific output but not to change anything.\n",
    "\n",
    "Output of a function have to be stored in objects, if to be stored"
   ]
  },
  {
   "cell_type": "code",
   "execution_count": 10,
   "metadata": {
    "slideshow": {
     "slide_type": "fragment"
    }
   },
   "outputs": [
    {
     "data": {
      "text/html": [
       "'jedi'"
      ],
      "text/latex": [
       "'jedi'"
      ],
      "text/markdown": [
       "'jedi'"
      ],
      "text/plain": [
       "[1] \"jedi\""
      ]
     },
     "metadata": {},
     "output_type": "display_data"
    }
   ],
   "source": [
    "b"
   ]
  },
  {
   "cell_type": "code",
   "execution_count": 11,
   "metadata": {
    "slideshow": {
     "slide_type": "fragment"
    }
   },
   "outputs": [
    {
     "data": {
      "text/html": [
       "'jadi'"
      ],
      "text/latex": [
       "'jadi'"
      ],
      "text/markdown": [
       "'jadi'"
      ],
      "text/plain": [
       "[1] \"jadi\""
      ]
     },
     "metadata": {},
     "output_type": "display_data"
    }
   ],
   "source": [
    "sub(\"e\", \"a\", b) #Return object b with characters \"e\" swapped with \"a\""
   ]
  },
  {
   "cell_type": "code",
   "execution_count": 12,
   "metadata": {
    "slideshow": {
     "slide_type": "fragment"
    }
   },
   "outputs": [
    {
     "data": {
      "text/html": [
       "'jedi'"
      ],
      "text/latex": [
       "'jedi'"
      ],
      "text/markdown": [
       "'jedi'"
      ],
      "text/plain": [
       "[1] \"jedi\""
      ]
     },
     "metadata": {},
     "output_type": "display_data"
    }
   ],
   "source": [
    "b"
   ]
  },
  {
   "cell_type": "code",
   "execution_count": 13,
   "metadata": {
    "slideshow": {
     "slide_type": "fragment"
    }
   },
   "outputs": [],
   "source": [
    "b <- sub(\"e\", \"a\", b) #Store object b with characters \"e\" swapped with \"a\" as b "
   ]
  },
  {
   "cell_type": "code",
   "execution_count": 14,
   "metadata": {
    "slideshow": {
     "slide_type": "fragment"
    }
   },
   "outputs": [
    {
     "data": {
      "text/html": [
       "'jadi'"
      ],
      "text/latex": [
       "'jadi'"
      ],
      "text/markdown": [
       "'jadi'"
      ],
      "text/plain": [
       "[1] \"jadi\""
      ]
     },
     "metadata": {},
     "output_type": "display_data"
    }
   ],
   "source": [
    "b"
   ]
  },
  {
   "cell_type": "markdown",
   "metadata": {
    "slideshow": {
     "slide_type": "slide"
    }
   },
   "source": [
    "# EXERCISE 1: DEFINING OBJECTS\n",
    "\n",
    "1. Define the following objects:\n",
    "\n",
    "    - `my_num1`: `42` (without quotation marks)\n",
    "    - `my_num2`: `\"42\"` (with quotation marks)\n",
    "    - `my_calc`: `42 * 42`\n",
    "    - `my_name`: `\"kenobi\"`\n",
    "\n",
    "2. Multiply each object by 2"
   ]
  },
  {
   "cell_type": "markdown",
   "metadata": {
    "slideshow": {
     "slide_type": "slide"
    }
   },
   "source": [
    "# EXERCISE 1: DEFINING OBJECTS\n",
    "*What happens?*"
   ]
  },
  {
   "cell_type": "code",
   "execution_count": 15,
   "metadata": {
    "slideshow": {
     "slide_type": "fragment"
    },
    "tags": [
     "remove_cell"
    ]
   },
   "outputs": [
    {
     "data": {
      "text/html": [
       "84"
      ],
      "text/latex": [
       "84"
      ],
      "text/markdown": [
       "84"
      ],
      "text/plain": [
       "[1] 84"
      ]
     },
     "metadata": {},
     "output_type": "display_data"
    }
   ],
   "source": [
    "my_num1 * 2"
   ]
  },
  {
   "cell_type": "code",
   "execution_count": 16,
   "metadata": {
    "slideshow": {
     "slide_type": "fragment"
    }
   },
   "outputs": [
    {
     "ename": "ERROR",
     "evalue": "Error in my_num2 * 2: non-numeric argument to binary operator\n",
     "output_type": "error",
     "traceback": [
      "Error in my_num2 * 2: non-numeric argument to binary operator\nTraceback:\n"
     ]
    }
   ],
   "source": [
    "my_num2 * 2"
   ]
  },
  {
   "cell_type": "code",
   "execution_count": 17,
   "metadata": {
    "slideshow": {
     "slide_type": "fragment"
    }
   },
   "outputs": [
    {
     "data": {
      "text/html": [
       "3528"
      ],
      "text/latex": [
       "3528"
      ],
      "text/markdown": [
       "3528"
      ],
      "text/plain": [
       "[1] 3528"
      ]
     },
     "metadata": {},
     "output_type": "display_data"
    }
   ],
   "source": [
    "my_calc * 2"
   ]
  },
  {
   "cell_type": "code",
   "execution_count": 18,
   "metadata": {
    "slideshow": {
     "slide_type": "fragment"
    }
   },
   "outputs": [
    {
     "ename": "ERROR",
     "evalue": "Error in my_name * 2: non-numeric argument to binary operator\n",
     "output_type": "error",
     "traceback": [
      "Error in my_name * 2: non-numeric argument to binary operator\nTraceback:\n"
     ]
    }
   ],
   "source": [
    "my_name * 2"
   ]
  },
  {
   "cell_type": "markdown",
   "metadata": {
    "slideshow": {
     "slide_type": "slide"
    }
   },
   "source": [
    "# Different types of objects (classes)\n",
    "Why did we get errors in the previous exercise?"
   ]
  },
  {
   "cell_type": "markdown",
   "metadata": {
    "slideshow": {
     "slide_type": "fragment"
    }
   },
   "source": [
    "Because R distinguishes between different types of objects!\n",
    "\n",
    "An objects is stored as a *class*. The class denotes what type of object it is and affects what operations are possible."
   ]
  },
  {
   "cell_type": "markdown",
   "metadata": {
    "slideshow": {
     "slide_type": "slide"
    }
   },
   "source": [
    "## Numeric and character classes\n",
    "As you work with R, you will encounter a lot of different classes. For now we will be focusing on two of the more common ones:\n",
    "- Numeric classes\n",
    "- Character classes\n",
    "\n",
    "Numbers are automatically stored as a numeric class (or one of the variants: double, integer etc.).\n",
    "\n",
    "When using `''` or `\"\"` around the information to be stored in the object, R will interpret that as text; meaning it will be stored as a character class. \n",
    "\n",
    "*Numbers enclosed in `''` or `\"\"` are therefore stored as a character class, as R interprets it as text!*\n",
    "\n",
    "R has to be told that something is text as R would otherwise interpret it as an object."
   ]
  },
  {
   "cell_type": "code",
   "execution_count": 19,
   "metadata": {
    "slideshow": {
     "slide_type": "fragment"
    }
   },
   "outputs": [
    {
     "ename": "ERROR",
     "evalue": "Error in eval(expr, envir, enclos): objekt 'vader' blev ikke fundet\n",
     "output_type": "error",
     "traceback": [
      "Error in eval(expr, envir, enclos): objekt 'vader' blev ikke fundet\nTraceback:\n"
     ]
    }
   ],
   "source": [
    "my_name2 <- vader"
   ]
  },
  {
   "cell_type": "markdown",
   "metadata": {
    "slideshow": {
     "slide_type": "slide"
    }
   },
   "source": [
    "## Coercing classes\n",
    "The class of an object can be examined with `class(object)`.\n",
    "\n",
    "Objects can be coerced with specific functions:\n",
    "\n",
    "- Coerce to character class:`as.character(object)`\n",
    "- Coerce to numeric class: `as.numeric(object)`\n",
    "\n",
    "R will always try to \"guess\" the class. If R guesses wrong, you can tell R what class it should be (if possible)."
   ]
  },
  {
   "cell_type": "markdown",
   "metadata": {
    "slideshow": {
     "slide_type": "slide"
    }
   },
   "source": [
    "# EXERCISE 2: CLASSES\n",
    "\n",
    "1. Create the object `my_product` containing the product of your 2 my_num objects: `my_num1 * my_num2`\n",
    "2. Check the error message. What's wrong?\n",
    "3. Change the class of `my_num2` to `numeric` (use `as.numeric()` and overwrite `my_num2`)\n",
    "4. Try creating the object `my_product` again\n",
    "5. Check if `my_product` is equal to `my_calc` using `==`. Assign it to the object `my_test`\n",
    "6. Check the class of `my_test`. What class is it?"
   ]
  },
  {
   "cell_type": "code",
   "execution_count": 20,
   "metadata": {
    "slideshow": {
     "slide_type": "subslide"
    }
   },
   "outputs": [],
   "source": [
    "my_num2 <- as.numeric(my_num2)\n",
    "my_product <- my_num1 * my_num2"
   ]
  },
  {
   "cell_type": "code",
   "execution_count": 21,
   "metadata": {
    "slideshow": {
     "slide_type": "fragment"
    }
   },
   "outputs": [
    {
     "data": {
      "text/html": [
       "TRUE"
      ],
      "text/latex": [
       "TRUE"
      ],
      "text/markdown": [
       "TRUE"
      ],
      "text/plain": [
       "[1] TRUE"
      ]
     },
     "metadata": {},
     "output_type": "display_data"
    }
   ],
   "source": [
    "my_test <- my_product == my_calc\n",
    "my_test"
   ]
  },
  {
   "cell_type": "code",
   "execution_count": 22,
   "metadata": {
    "slideshow": {
     "slide_type": "fragment"
    }
   },
   "outputs": [
    {
     "data": {
      "text/html": [
       "'logical'"
      ],
      "text/latex": [
       "'logical'"
      ],
      "text/markdown": [
       "'logical'"
      ],
      "text/plain": [
       "[1] \"logical\""
      ]
     },
     "metadata": {},
     "output_type": "display_data"
    }
   ],
   "source": [
    "class(my_test)"
   ]
  },
  {
   "cell_type": "markdown",
   "metadata": {
    "slideshow": {
     "slide_type": "slide"
    }
   },
   "source": [
    "# The logical class\n",
    "Logicals are *boolean* objects meaning they will either have the value `TRUE` or `FALSE`.\n",
    "\n",
    "When using the following operators (among others), R will interpret it as a logical class:\n",
    "- `>`\n",
    "- `>=`\n",
    "- `<`\n",
    "- `<=`\n",
    "- `==`\n",
    "- `!=`\n",
    "\n",
    "Logicals can be used in functions, loops and if-statements to ensure that a certain condition is met before something is run."
   ]
  },
  {
   "cell_type": "markdown",
   "metadata": {
    "slideshow": {
     "slide_type": "slide"
    }
   },
   "source": [
    "# R Objects: Vectors\n",
    "So far we have looked at R objects containing single values: a number, a word or a boolean.\n",
    "\n",
    "R has different ways of storing a series of elements (values, objects, etc.). One of the more common is the *vector*.\n",
    "\n",
    "A vector is a grouping of elements. They are created using the function `c`:"
   ]
  },
  {
   "cell_type": "code",
   "execution_count": 23,
   "metadata": {
    "slideshow": {
     "slide_type": "fragment"
    }
   },
   "outputs": [
    {
     "data": {
      "text/html": [
       "<ol class=list-inline>\n",
       "\t<li>1</li>\n",
       "\t<li>9</li>\n",
       "\t<li>7</li>\n",
       "\t<li>3</li>\n",
       "</ol>\n"
      ],
      "text/latex": [
       "\\begin{enumerate*}\n",
       "\\item 1\n",
       "\\item 9\n",
       "\\item 7\n",
       "\\item 3\n",
       "\\end{enumerate*}\n"
      ],
      "text/markdown": [
       "1. 1\n",
       "2. 9\n",
       "3. 7\n",
       "4. 3\n",
       "\n",
       "\n"
      ],
      "text/plain": [
       "[1] 1 9 7 3"
      ]
     },
     "metadata": {},
     "output_type": "display_data"
    }
   ],
   "source": [
    "my_vec <- c(1, 9, 7, 3)\n",
    "my_vec"
   ]
  },
  {
   "cell_type": "markdown",
   "metadata": {
    "slideshow": {
     "slide_type": "fragment"
    }
   },
   "source": [
    "Elements can be added to the vector with the function `append` or by creating a vector containing the vector:"
   ]
  },
  {
   "cell_type": "code",
   "execution_count": 24,
   "metadata": {
    "slideshow": {
     "slide_type": "subslide"
    }
   },
   "outputs": [
    {
     "data": {
      "text/html": [
       "<ol class=list-inline>\n",
       "\t<li>1</li>\n",
       "\t<li>9</li>\n",
       "\t<li>7</li>\n",
       "\t<li>3</li>\n",
       "\t<li>22</li>\n",
       "</ol>\n"
      ],
      "text/latex": [
       "\\begin{enumerate*}\n",
       "\\item 1\n",
       "\\item 9\n",
       "\\item 7\n",
       "\\item 3\n",
       "\\item 22\n",
       "\\end{enumerate*}\n"
      ],
      "text/markdown": [
       "1. 1\n",
       "2. 9\n",
       "3. 7\n",
       "4. 3\n",
       "5. 22\n",
       "\n",
       "\n"
      ],
      "text/plain": [
       "[1]  1  9  7  3 22"
      ]
     },
     "metadata": {},
     "output_type": "display_data"
    }
   ],
   "source": [
    "my_vec2 <- append(my_vec, 22)\n",
    "my_vec2"
   ]
  },
  {
   "cell_type": "code",
   "execution_count": 25,
   "metadata": {
    "slideshow": {
     "slide_type": "fragment"
    }
   },
   "outputs": [
    {
     "data": {
      "text/html": [
       "<ol class=list-inline>\n",
       "\t<li>1</li>\n",
       "\t<li>9</li>\n",
       "\t<li>7</li>\n",
       "\t<li>3</li>\n",
       "\t<li>22</li>\n",
       "</ol>\n"
      ],
      "text/latex": [
       "\\begin{enumerate*}\n",
       "\\item 1\n",
       "\\item 9\n",
       "\\item 7\n",
       "\\item 3\n",
       "\\item 22\n",
       "\\end{enumerate*}\n"
      ],
      "text/markdown": [
       "1. 1\n",
       "2. 9\n",
       "3. 7\n",
       "4. 3\n",
       "5. 22\n",
       "\n",
       "\n"
      ],
      "text/plain": [
       "[1]  1  9  7  3 22"
      ]
     },
     "metadata": {},
     "output_type": "display_data"
    }
   ],
   "source": [
    "my_vec3 <- c(my_vec, 22)\n",
    "my_vec3"
   ]
  },
  {
   "cell_type": "markdown",
   "metadata": {
    "slideshow": {
     "slide_type": "slide"
    }
   },
   "source": [
    "# R Objects: Vectors\n",
    "Note that a vector is not a class. The class it takes depends on the elements in the vector. This means that all elements in a vector have to be the same class (or will be coerced to the same class).\n",
    "\n",
    "Also note that when grouping existing objects in a vector, the vector does not contain the objects but the values of those objects."
   ]
  },
  {
   "cell_type": "code",
   "execution_count": 26,
   "metadata": {
    "slideshow": {
     "slide_type": "-"
    }
   },
   "outputs": [
    {
     "data": {
      "text/html": [
       "'numeric'"
      ],
      "text/latex": [
       "'numeric'"
      ],
      "text/markdown": [
       "'numeric'"
      ],
      "text/plain": [
       "[1] \"numeric\""
      ]
     },
     "metadata": {},
     "output_type": "display_data"
    }
   ],
   "source": [
    "class(my_vec)"
   ]
  },
  {
   "cell_type": "markdown",
   "metadata": {
    "slideshow": {
     "slide_type": "slide"
    }
   },
   "source": [
    "## Operations on a vector\n",
    "Operations on vectors are applied on all elements in the vector:"
   ]
  },
  {
   "cell_type": "code",
   "execution_count": 27,
   "metadata": {},
   "outputs": [
    {
     "data": {
      "text/html": [
       "<ol class=list-inline>\n",
       "\t<li>1</li>\n",
       "\t<li>9</li>\n",
       "\t<li>7</li>\n",
       "\t<li>3</li>\n",
       "</ol>\n"
      ],
      "text/latex": [
       "\\begin{enumerate*}\n",
       "\\item 1\n",
       "\\item 9\n",
       "\\item 7\n",
       "\\item 3\n",
       "\\end{enumerate*}\n"
      ],
      "text/markdown": [
       "1. 1\n",
       "2. 9\n",
       "3. 7\n",
       "4. 3\n",
       "\n",
       "\n"
      ],
      "text/plain": [
       "[1] 1 9 7 3"
      ]
     },
     "metadata": {},
     "output_type": "display_data"
    }
   ],
   "source": [
    "my_vec"
   ]
  },
  {
   "cell_type": "code",
   "execution_count": 28,
   "metadata": {
    "slideshow": {
     "slide_type": "fragment"
    }
   },
   "outputs": [
    {
     "data": {
      "text/html": [
       "<ol class=list-inline>\n",
       "\t<li>2</li>\n",
       "\t<li>18</li>\n",
       "\t<li>14</li>\n",
       "\t<li>6</li>\n",
       "</ol>\n"
      ],
      "text/latex": [
       "\\begin{enumerate*}\n",
       "\\item 2\n",
       "\\item 18\n",
       "\\item 14\n",
       "\\item 6\n",
       "\\end{enumerate*}\n"
      ],
      "text/markdown": [
       "1. 2\n",
       "2. 18\n",
       "3. 14\n",
       "4. 6\n",
       "\n",
       "\n"
      ],
      "text/plain": [
       "[1]  2 18 14  6"
      ]
     },
     "metadata": {},
     "output_type": "display_data"
    }
   ],
   "source": [
    "2 * my_vec"
   ]
  },
  {
   "cell_type": "code",
   "execution_count": 29,
   "metadata": {
    "slideshow": {
     "slide_type": "fragment"
    }
   },
   "outputs": [
    {
     "data": {
      "text/html": [
       "<ol class=list-inline>\n",
       "\t<li>FALSE</li>\n",
       "\t<li>TRUE</li>\n",
       "\t<li>TRUE</li>\n",
       "\t<li>FALSE</li>\n",
       "</ol>\n"
      ],
      "text/latex": [
       "\\begin{enumerate*}\n",
       "\\item FALSE\n",
       "\\item TRUE\n",
       "\\item TRUE\n",
       "\\item FALSE\n",
       "\\end{enumerate*}\n"
      ],
      "text/markdown": [
       "1. FALSE\n",
       "2. TRUE\n",
       "3. TRUE\n",
       "4. FALSE\n",
       "\n",
       "\n"
      ],
      "text/plain": [
       "[1] FALSE  TRUE  TRUE FALSE"
      ]
     },
     "metadata": {},
     "output_type": "display_data"
    }
   ],
   "source": [
    "my_vec > 5"
   ]
  },
  {
   "cell_type": "markdown",
   "metadata": {
    "slideshow": {
     "slide_type": "slide"
    }
   },
   "source": [
    "## Subsetting a vector\n",
    "Each element in the vector is assigned an index running from 1 to the number of elements. We can use the index to refer to specific elements with `[]`:"
   ]
  },
  {
   "cell_type": "code",
   "execution_count": 30,
   "metadata": {
    "slideshow": {
     "slide_type": "fragment"
    }
   },
   "outputs": [
    {
     "data": {
      "text/html": [
       "18"
      ],
      "text/latex": [
       "18"
      ],
      "text/markdown": [
       "18"
      ],
      "text/plain": [
       "[1] 18"
      ]
     },
     "metadata": {},
     "output_type": "display_data"
    }
   ],
   "source": [
    "2 * my_vec[2]"
   ]
  },
  {
   "cell_type": "markdown",
   "metadata": {
    "slideshow": {
     "slide_type": "fragment"
    }
   },
   "source": [
    "Subsetting can also be used to overwrite values:"
   ]
  },
  {
   "cell_type": "code",
   "execution_count": 31,
   "metadata": {
    "slideshow": {
     "slide_type": "fragment"
    }
   },
   "outputs": [
    {
     "data": {
      "text/html": [
       "<ol class=list-inline>\n",
       "\t<li>1</li>\n",
       "\t<li>9</li>\n",
       "\t<li>7</li>\n",
       "\t<li>3</li>\n",
       "</ol>\n"
      ],
      "text/latex": [
       "\\begin{enumerate*}\n",
       "\\item 1\n",
       "\\item 9\n",
       "\\item 7\n",
       "\\item 3\n",
       "\\end{enumerate*}\n"
      ],
      "text/markdown": [
       "1. 1\n",
       "2. 9\n",
       "3. 7\n",
       "4. 3\n",
       "\n",
       "\n"
      ],
      "text/plain": [
       "[1] 1 9 7 3"
      ]
     },
     "metadata": {},
     "output_type": "display_data"
    }
   ],
   "source": [
    "my_vec"
   ]
  },
  {
   "cell_type": "code",
   "execution_count": 32,
   "metadata": {
    "slideshow": {
     "slide_type": "fragment"
    }
   },
   "outputs": [
    {
     "data": {
      "text/html": [
       "<ol class=list-inline>\n",
       "\t<li>1</li>\n",
       "\t<li>11</li>\n",
       "\t<li>7</li>\n",
       "\t<li>3</li>\n",
       "</ol>\n"
      ],
      "text/latex": [
       "\\begin{enumerate*}\n",
       "\\item 1\n",
       "\\item 11\n",
       "\\item 7\n",
       "\\item 3\n",
       "\\end{enumerate*}\n"
      ],
      "text/markdown": [
       "1. 1\n",
       "2. 11\n",
       "3. 7\n",
       "4. 3\n",
       "\n",
       "\n"
      ],
      "text/plain": [
       "[1]  1 11  7  3"
      ]
     },
     "metadata": {},
     "output_type": "display_data"
    }
   ],
   "source": [
    "my_vec[2] <- 11\n",
    "my_vec"
   ]
  },
  {
   "cell_type": "markdown",
   "metadata": {
    "slideshow": {
     "slide_type": "slide"
    }
   },
   "source": [
    "## Useful operations and functions on vectors\n",
    "Below are some examples of different commands to interact with vectors.\n",
    "\n",
    "| Code   | Description |\n",
    "|:-------|:------------|\n",
    "|`my_vec[-3]` | Everything but the 3rd element |\n",
    "|`my_vec[c(1,4)]` | The 1st and 4th element |\n",
    "|`my_vec[c(2:4)]` | The elements from index 2 to 4 |\n",
    "|`length(my_vec)` | The number of elements |\n",
    "|`sort(my_vec)` | Sorts the elements in ascending order |\n",
    "|`sum(my_vec)` | The sum of the vector elements (numeric) |\n",
    "|`mean(my_vec)`| The mean of the vector elements (numeric) |\n",
    "|`min(my_vec)` | The vector element with the lowest value (numeric) |\n",
    "|`max(my_vec)` | The vector element with the highest value (numeric)"
   ]
  },
  {
   "cell_type": "markdown",
   "metadata": {
    "slideshow": {
     "slide_type": "slide"
    }
   },
   "source": [
    "# EXERCISE 3: VECTORS\n",
    "\n",
    "1. Create the vector `my_numvec` containing the objects: `my_num1`, `my_num2`, `my_calc`, `my_product` (`my_num2` should be numeric)\n",
    "2. Check the class with `class()` - What class is it?\n",
    "3. Calculate the sum of the numbers with `sum()`\n",
    "\n",
    "### BONUS EXERCISE\n",
    "1. Can you add `my_name` to the same vector?\n",
    "2. If so, what class would the vector be?"
   ]
  },
  {
   "cell_type": "code",
   "execution_count": 33,
   "metadata": {
    "slideshow": {
     "slide_type": "subslide"
    }
   },
   "outputs": [],
   "source": [
    "# EXERCISE 3\n",
    "my_numvec <- c(my_num1, my_num2, my_calc, my_product)"
   ]
  },
  {
   "cell_type": "code",
   "execution_count": 34,
   "metadata": {
    "slideshow": {
     "slide_type": "-"
    }
   },
   "outputs": [
    {
     "data": {
      "text/html": [
       "'numeric'"
      ],
      "text/latex": [
       "'numeric'"
      ],
      "text/markdown": [
       "'numeric'"
      ],
      "text/plain": [
       "[1] \"numeric\""
      ]
     },
     "metadata": {},
     "output_type": "display_data"
    }
   ],
   "source": [
    "class(my_numvec)"
   ]
  },
  {
   "cell_type": "code",
   "execution_count": 35,
   "metadata": {
    "slideshow": {
     "slide_type": "-"
    }
   },
   "outputs": [
    {
     "data": {
      "text/html": [
       "3612"
      ],
      "text/latex": [
       "3612"
      ],
      "text/markdown": [
       "3612"
      ],
      "text/plain": [
       "[1] 3612"
      ]
     },
     "metadata": {},
     "output_type": "display_data"
    }
   ],
   "source": [
    "sum(my_numvec)"
   ]
  },
  {
   "cell_type": "code",
   "execution_count": 36,
   "metadata": {
    "slideshow": {
     "slide_type": "subslide"
    }
   },
   "outputs": [],
   "source": [
    "# EXERCISE 3 - BONNUS\n",
    "my_numvec <- c(my_numvec, my_name)"
   ]
  },
  {
   "cell_type": "code",
   "execution_count": 37,
   "metadata": {
    "slideshow": {
     "slide_type": "-"
    }
   },
   "outputs": [
    {
     "data": {
      "text/html": [
       "'character'"
      ],
      "text/latex": [
       "'character'"
      ],
      "text/markdown": [
       "'character'"
      ],
      "text/plain": [
       "[1] \"character\""
      ]
     },
     "metadata": {},
     "output_type": "display_data"
    }
   ],
   "source": [
    "class(my_numvec)"
   ]
  },
  {
   "cell_type": "markdown",
   "metadata": {
    "slideshow": {
     "slide_type": "slide"
    }
   },
   "source": [
    "# R Objects: Data Frames\n",
    "A \"data frame\" is the R-equivalent of a spreadsheet (a table of rows and columns). It is one of the most useful storage structures for data analysis in R.\n",
    "\n",
    "Typically rows consist of individual observations and the columns of the different variables (tidy data)."
   ]
  },
  {
   "cell_type": "code",
   "execution_count": 38,
   "metadata": {
    "slideshow": {
     "slide_type": "-"
    }
   },
   "outputs": [],
   "source": [
    "ess2014_df <- read.csv(\"https://github.com/CALDISS-AAU/workshop_R-intro/raw/master/data/ESS2014DK_subset.csv\")"
   ]
  },
  {
   "cell_type": "markdown",
   "metadata": {
    "slideshow": {
     "slide_type": "slide"
    }
   },
   "source": [
    "## Exploring Data Frames\n",
    "To get an idea of what the data contains, we can use `head()`:"
   ]
  },
  {
   "cell_type": "code",
   "execution_count": 39,
   "metadata": {
    "slideshow": {
     "slide_type": "-"
    }
   },
   "outputs": [
    {
     "data": {
      "text/html": [
       "<table>\n",
       "<thead><tr><th scope=col>idno</th><th scope=col>ppltrst</th><th scope=col>happy</th><th scope=col>cgtsday</th><th scope=col>alcfreq</th><th scope=col>height</th><th scope=col>weight</th><th scope=col>gndr</th><th scope=col>yrbrn</th></tr></thead>\n",
       "<tbody>\n",
       "\t<tr><td>921018              </td><td>6                   </td><td>9                   </td><td>10                  </td><td>2-3 times a month   </td><td>178                 </td><td>64                  </td><td>Male                </td><td>1990                </td></tr>\n",
       "\t<tr><td>921026              </td><td>8                   </td><td>8                   </td><td>NA                  </td><td>Several times a week</td><td>172                 </td><td>64                  </td><td>Female              </td><td>1948                </td></tr>\n",
       "\t<tr><td>921034              </td><td>8                   </td><td>8                   </td><td>NA                  </td><td>Every day           </td><td>176                 </td><td>87                  </td><td>Male                </td><td>1957                </td></tr>\n",
       "\t<tr><td>921076              </td><td>8                   </td><td>8                   </td><td>NA                  </td><td>Several times a week</td><td>162                 </td><td>70                  </td><td>Female              </td><td>1958                </td></tr>\n",
       "\t<tr><td>921084              </td><td>5                   </td><td>8                   </td><td>NA                  </td><td>Every day           </td><td>175                 </td><td>80                  </td><td>Male                </td><td>1936                </td></tr>\n",
       "\t<tr><td>921131              </td><td>8                   </td><td>8                   </td><td>NA                  </td><td>Several times a week</td><td>160                 </td><td>70                  </td><td>Female              </td><td>1940                </td></tr>\n",
       "</tbody>\n",
       "</table>\n"
      ],
      "text/latex": [
       "\\begin{tabular}{r|lllllllll}\n",
       " idno & ppltrst & happy & cgtsday & alcfreq & height & weight & gndr & yrbrn\\\\\n",
       "\\hline\n",
       "\t 921018               & 6                    & 9                    & 10                   & 2-3 times a month    & 178                  & 64                   & Male                 & 1990                \\\\\n",
       "\t 921026               & 8                    & 8                    & NA                   & Several times a week & 172                  & 64                   & Female               & 1948                \\\\\n",
       "\t 921034               & 8                    & 8                    & NA                   & Every day            & 176                  & 87                   & Male                 & 1957                \\\\\n",
       "\t 921076               & 8                    & 8                    & NA                   & Several times a week & 162                  & 70                   & Female               & 1958                \\\\\n",
       "\t 921084               & 5                    & 8                    & NA                   & Every day            & 175                  & 80                   & Male                 & 1936                \\\\\n",
       "\t 921131               & 8                    & 8                    & NA                   & Several times a week & 160                  & 70                   & Female               & 1940                \\\\\n",
       "\\end{tabular}\n"
      ],
      "text/markdown": [
       "\n",
       "| idno | ppltrst | happy | cgtsday | alcfreq | height | weight | gndr | yrbrn |\n",
       "|---|---|---|---|---|---|---|---|---|\n",
       "| 921018               | 6                    | 9                    | 10                   | 2-3 times a month    | 178                  | 64                   | Male                 | 1990                 |\n",
       "| 921026               | 8                    | 8                    | NA                   | Several times a week | 172                  | 64                   | Female               | 1948                 |\n",
       "| 921034               | 8                    | 8                    | NA                   | Every day            | 176                  | 87                   | Male                 | 1957                 |\n",
       "| 921076               | 8                    | 8                    | NA                   | Several times a week | 162                  | 70                   | Female               | 1958                 |\n",
       "| 921084               | 5                    | 8                    | NA                   | Every day            | 175                  | 80                   | Male                 | 1936                 |\n",
       "| 921131               | 8                    | 8                    | NA                   | Several times a week | 160                  | 70                   | Female               | 1940                 |\n",
       "\n"
      ],
      "text/plain": [
       "  idno   ppltrst happy cgtsday alcfreq              height weight gndr   yrbrn\n",
       "1 921018 6       9     10      2-3 times a month    178    64     Male   1990 \n",
       "2 921026 8       8     NA      Several times a week 172    64     Female 1948 \n",
       "3 921034 8       8     NA      Every day            176    87     Male   1957 \n",
       "4 921076 8       8     NA      Several times a week 162    70     Female 1958 \n",
       "5 921084 5       8     NA      Every day            175    80     Male   1936 \n",
       "6 921131 8       8     NA      Several times a week 160    70     Female 1940 "
      ]
     },
     "metadata": {},
     "output_type": "display_data"
    }
   ],
   "source": [
    "head(ess2014_df) #Shows the 6 first rows of each observation"
   ]
  },
  {
   "cell_type": "markdown",
   "metadata": {
    "slideshow": {
     "slide_type": "slide"
    }
   },
   "source": [
    "We can check the names of the rows and columns (the variable names) using `rownames` and `colnames`. `dim` returns number of rows and columns."
   ]
  },
  {
   "cell_type": "code",
   "execution_count": 40,
   "metadata": {
    "slideshow": {
     "slide_type": "fragment"
    }
   },
   "outputs": [
    {
     "data": {
      "text/html": [
       "<ol class=list-inline>\n",
       "\t<li>'1'</li>\n",
       "\t<li>'2'</li>\n",
       "\t<li>'3'</li>\n",
       "\t<li>'4'</li>\n",
       "\t<li>'5'</li>\n",
       "\t<li>'6'</li>\n",
       "</ol>\n"
      ],
      "text/latex": [
       "\\begin{enumerate*}\n",
       "\\item '1'\n",
       "\\item '2'\n",
       "\\item '3'\n",
       "\\item '4'\n",
       "\\item '5'\n",
       "\\item '6'\n",
       "\\end{enumerate*}\n"
      ],
      "text/markdown": [
       "1. '1'\n",
       "2. '2'\n",
       "3. '3'\n",
       "4. '4'\n",
       "5. '5'\n",
       "6. '6'\n",
       "\n",
       "\n"
      ],
      "text/plain": [
       "[1] \"1\" \"2\" \"3\" \"4\" \"5\" \"6\""
      ]
     },
     "metadata": {},
     "output_type": "display_data"
    }
   ],
   "source": [
    "head(rownames(ess2014_df))"
   ]
  },
  {
   "cell_type": "code",
   "execution_count": 41,
   "metadata": {
    "slideshow": {
     "slide_type": "fragment"
    }
   },
   "outputs": [
    {
     "data": {
      "text/html": [
       "<ol class=list-inline>\n",
       "\t<li>'idno'</li>\n",
       "\t<li>'ppltrst'</li>\n",
       "\t<li>'happy'</li>\n",
       "\t<li>'cgtsday'</li>\n",
       "\t<li>'alcfreq'</li>\n",
       "\t<li>'height'</li>\n",
       "\t<li>'weight'</li>\n",
       "\t<li>'gndr'</li>\n",
       "\t<li>'yrbrn'</li>\n",
       "</ol>\n"
      ],
      "text/latex": [
       "\\begin{enumerate*}\n",
       "\\item 'idno'\n",
       "\\item 'ppltrst'\n",
       "\\item 'happy'\n",
       "\\item 'cgtsday'\n",
       "\\item 'alcfreq'\n",
       "\\item 'height'\n",
       "\\item 'weight'\n",
       "\\item 'gndr'\n",
       "\\item 'yrbrn'\n",
       "\\end{enumerate*}\n"
      ],
      "text/markdown": [
       "1. 'idno'\n",
       "2. 'ppltrst'\n",
       "3. 'happy'\n",
       "4. 'cgtsday'\n",
       "5. 'alcfreq'\n",
       "6. 'height'\n",
       "7. 'weight'\n",
       "8. 'gndr'\n",
       "9. 'yrbrn'\n",
       "\n",
       "\n"
      ],
      "text/plain": [
       "[1] \"idno\"    \"ppltrst\" \"happy\"   \"cgtsday\" \"alcfreq\" \"height\"  \"weight\" \n",
       "[8] \"gndr\"    \"yrbrn\"  "
      ]
     },
     "metadata": {},
     "output_type": "display_data"
    }
   ],
   "source": [
    "colnames(ess2014_df)"
   ]
  },
  {
   "cell_type": "code",
   "execution_count": 42,
   "metadata": {
    "slideshow": {
     "slide_type": "fragment"
    }
   },
   "outputs": [
    {
     "data": {
      "text/html": [
       "<ol class=list-inline>\n",
       "\t<li>1502</li>\n",
       "\t<li>9</li>\n",
       "</ol>\n"
      ],
      "text/latex": [
       "\\begin{enumerate*}\n",
       "\\item 1502\n",
       "\\item 9\n",
       "\\end{enumerate*}\n"
      ],
      "text/markdown": [
       "1. 1502\n",
       "2. 9\n",
       "\n",
       "\n"
      ],
      "text/plain": [
       "[1] 1502    9"
      ]
     },
     "metadata": {},
     "output_type": "display_data"
    }
   ],
   "source": [
    "dim(ess2014_df)"
   ]
  },
  {
   "cell_type": "markdown",
   "metadata": {
    "slideshow": {
     "slide_type": "slide"
    }
   },
   "source": [
    "See key summary statistics using `summary()`. (counts, mean, std, min, max, quartiles)."
   ]
  },
  {
   "cell_type": "code",
   "execution_count": 43,
   "metadata": {
    "slideshow": {
     "slide_type": "fragment"
    }
   },
   "outputs": [
    {
     "data": {
      "text/plain": [
       "      idno           ppltrst                happy        cgtsday    \n",
       " Min.   :921018   8      :475   8              :457   Min.   :  0   \n",
       " 1st Qu.:928067   7      :328   9              :446   1st Qu.:  5   \n",
       " Median :935772   5      :180   Extremely happy:278   Median : 10   \n",
       " Mean   :935551   9      :176   7              :170   Mean   : 12   \n",
       " 3rd Qu.:942860   6      :103   6              : 57   3rd Qu.: 20   \n",
       " Max.   :950516   4      : 76   5              : 43   Max.   :102   \n",
       "                  (Other):164   (Other)        : 51   NA's   :1172  \n",
       "                   alcfreq        height          weight           gndr    \n",
       " Several times a week  :364   Min.   :142.0   Min.   : 38.00   Female:723  \n",
       " Once a week           :309   1st Qu.:167.0   1st Qu.: 65.00   Male  :779  \n",
       " 2-3 times a month     :264   Median :173.0   Median : 74.00               \n",
       " Less than once a month:197   Mean   :173.8   Mean   : 75.86               \n",
       " Every day             :133   3rd Qu.:180.0   3rd Qu.: 85.00               \n",
       " Once a month          :129   Max.   :204.0   Max.   :137.00               \n",
       " (Other)               :106   NA's   :5       NA's   :29                   \n",
       "     yrbrn     \n",
       " Min.   :1914  \n",
       " 1st Qu.:1951  \n",
       " Median :1966  \n",
       " Mean   :1966  \n",
       " 3rd Qu.:1981  \n",
       " Max.   :1999  \n",
       "               "
      ]
     },
     "metadata": {},
     "output_type": "display_data"
    }
   ],
   "source": [
    "summary(ess2014_df)"
   ]
  },
  {
   "cell_type": "markdown",
   "metadata": {
    "slideshow": {
     "slide_type": "slide"
    }
   },
   "source": [
    "## Subsetting Data Frames\n",
    "Specific columns/variables can be called by their name using `$`:"
   ]
  },
  {
   "cell_type": "code",
   "execution_count": 44,
   "metadata": {
    "slideshow": {
     "slide_type": "-"
    }
   },
   "outputs": [
    {
     "data": {
      "text/html": [
       "<ol class=list-inline>\n",
       "\t<li>2-3 times a month</li>\n",
       "\t<li>Several times a week</li>\n",
       "\t<li>Every day</li>\n",
       "\t<li>Several times a week</li>\n",
       "\t<li>Every day</li>\n",
       "\t<li>Several times a week</li>\n",
       "</ol>\n",
       "\n",
       "<details>\n",
       "\t<summary style=display:list-item;cursor:pointer>\n",
       "\t\t<strong>Levels</strong>:\n",
       "\t</summary>\n",
       "\t<ol class=list-inline>\n",
       "\t\t<li>''</li>\n",
       "\t\t<li>'2-3 times a month'</li>\n",
       "\t\t<li>'Every day'</li>\n",
       "\t\t<li>'Less than once a month'</li>\n",
       "\t\t<li>'Never'</li>\n",
       "\t\t<li>'Once a month'</li>\n",
       "\t\t<li>'Once a week'</li>\n",
       "\t\t<li>'Several times a week'</li>\n",
       "\t</ol>\n",
       "</details>"
      ],
      "text/latex": [
       "\\begin{enumerate*}\n",
       "\\item 2-3 times a month\n",
       "\\item Several times a week\n",
       "\\item Every day\n",
       "\\item Several times a week\n",
       "\\item Every day\n",
       "\\item Several times a week\n",
       "\\end{enumerate*}\n",
       "\n",
       "\\emph{Levels}: \\begin{enumerate*}\n",
       "\\item ''\n",
       "\\item '2-3 times a month'\n",
       "\\item 'Every day'\n",
       "\\item 'Less than once a month'\n",
       "\\item 'Never'\n",
       "\\item 'Once a month'\n",
       "\\item 'Once a week'\n",
       "\\item 'Several times a week'\n",
       "\\end{enumerate*}\n"
      ],
      "text/markdown": [
       "1. 2-3 times a month\n",
       "2. Several times a week\n",
       "3. Every day\n",
       "4. Several times a week\n",
       "5. Every day\n",
       "6. Several times a week\n",
       "\n",
       "\n",
       "\n",
       "**Levels**: 1. ''\n",
       "2. '2-3 times a month'\n",
       "3. 'Every day'\n",
       "4. 'Less than once a month'\n",
       "5. 'Never'\n",
       "6. 'Once a month'\n",
       "7. 'Once a week'\n",
       "8. 'Several times a week'\n",
       "\n",
       "\n"
      ],
      "text/plain": [
       "[1] 2-3 times a month    Several times a week Every day           \n",
       "[4] Several times a week Every day            Several times a week\n",
       "8 Levels:  2-3 times a month Every day Less than once a month ... Several times a week"
      ]
     },
     "metadata": {},
     "output_type": "display_data"
    }
   ],
   "source": [
    "head(ess2014_df$alcfreq) #6 first rows of the variable \"alcfreq\""
   ]
  },
  {
   "cell_type": "markdown",
   "metadata": {
    "slideshow": {
     "slide_type": "fragment"
    }
   },
   "source": [
    "Data frames can also be subset via index: `[]` - either by index or column names:\n",
    "\n",
    "| Code | Description |\n",
    "|:-----|:------------|\n",
    "|`ess2014_df[2, 5]` | Row 2, column 5 |\n",
    "|`ess2014_df[2, \"alcfreq\"]` | Row 2, column \"drat\" (column 5) |\n",
    "|`ess2014_df[8, ]` | The entire 10th row |\n",
    "|`ess2014_df[, 8]` | The entire 10th column |"
   ]
  },
  {
   "cell_type": "markdown",
   "metadata": {
    "slideshow": {
     "slide_type": "slide"
    }
   },
   "source": [
    "### Subsetting with logicals\n",
    "Subsetting can be done either via index numbers or via a vector of logicals.\n",
    "\n",
    "If a vector of logicals of the same length as the variable (same number of observations) is specified as the index, only observations with the value `TRUE` are returned (note that `NA` values are neither more nor less than 0)."
   ]
  },
  {
   "cell_type": "code",
   "execution_count": 45,
   "metadata": {
    "slideshow": {
     "slide_type": "fragment"
    }
   },
   "outputs": [
    {
     "data": {
      "text/html": [
       "<ol class=list-inline>\n",
       "\t<li>&lt;NA&gt;</li>\n",
       "\t<li>&lt;NA&gt;</li>\n",
       "\t<li>&lt;NA&gt;</li>\n",
       "\t<li>&lt;NA&gt;</li>\n",
       "\t<li>&lt;NA&gt;</li>\n",
       "\t<li>&lt;NA&gt;</li>\n",
       "</ol>\n"
      ],
      "text/latex": [
       "\\begin{enumerate*}\n",
       "\\item <NA>\n",
       "\\item <NA>\n",
       "\\item <NA>\n",
       "\\item <NA>\n",
       "\\item <NA>\n",
       "\\item <NA>\n",
       "\\end{enumerate*}\n"
      ],
      "text/markdown": [
       "1. &lt;NA&gt;\n",
       "2. &lt;NA&gt;\n",
       "3. &lt;NA&gt;\n",
       "4. &lt;NA&gt;\n",
       "5. &lt;NA&gt;\n",
       "6. &lt;NA&gt;\n",
       "\n",
       "\n"
      ],
      "text/plain": [
       "[1] NA NA NA NA NA NA"
      ]
     },
     "metadata": {},
     "output_type": "display_data"
    }
   ],
   "source": [
    "head(ess2014_df[ess2014_df$yrbrn < 1990, \"cgtsday\"])"
   ]
  },
  {
   "cell_type": "code",
   "execution_count": 46,
   "metadata": {
    "slideshow": {
     "slide_type": "fragment"
    }
   },
   "outputs": [
    {
     "data": {
      "text/html": [
       "12.2962962962963"
      ],
      "text/latex": [
       "12.2962962962963"
      ],
      "text/markdown": [
       "12.2962962962963"
      ],
      "text/plain": [
       "[1] 12.2963"
      ]
     },
     "metadata": {},
     "output_type": "display_data"
    }
   ],
   "source": [
    "mean(ess2014_df[ess2014_df$yrbrn < 1990, \"cgtsday\"], na.rm = TRUE)"
   ]
  },
  {
   "cell_type": "code",
   "execution_count": 47,
   "metadata": {
    "slideshow": {
     "slide_type": "fragment"
    }
   },
   "outputs": [
    {
     "data": {
      "text/html": [
       "<ol class=list-inline>\n",
       "\t<li>10</li>\n",
       "\t<li>20</li>\n",
       "\t<li>10</li>\n",
       "\t<li>&lt;NA&gt;</li>\n",
       "\t<li>&lt;NA&gt;</li>\n",
       "\t<li>&lt;NA&gt;</li>\n",
       "</ol>\n"
      ],
      "text/latex": [
       "\\begin{enumerate*}\n",
       "\\item 10\n",
       "\\item 20\n",
       "\\item 10\n",
       "\\item <NA>\n",
       "\\item <NA>\n",
       "\\item <NA>\n",
       "\\end{enumerate*}\n"
      ],
      "text/markdown": [
       "1. 10\n",
       "2. 20\n",
       "3. 10\n",
       "4. &lt;NA&gt;\n",
       "5. &lt;NA&gt;\n",
       "6. &lt;NA&gt;\n",
       "\n",
       "\n"
      ],
      "text/plain": [
       "[1] 10 20 10 NA NA NA"
      ]
     },
     "metadata": {},
     "output_type": "display_data"
    }
   ],
   "source": [
    "head(ess2014_df[ess2014_df$yrbrn >= 1990, \"cgtsday\"])"
   ]
  },
  {
   "cell_type": "code",
   "execution_count": 48,
   "metadata": {
    "slideshow": {
     "slide_type": "fragment"
    }
   },
   "outputs": [
    {
     "data": {
      "text/html": [
       "10.6666666666667"
      ],
      "text/latex": [
       "10.6666666666667"
      ],
      "text/markdown": [
       "10.6666666666667"
      ],
      "text/plain": [
       "[1] 10.66667"
      ]
     },
     "metadata": {},
     "output_type": "display_data"
    }
   ],
   "source": [
    "mean(ess2014_df[ess2014_df$yrbrn >= 1990, \"cgtsday\"], na.rm = TRUE)"
   ]
  },
  {
   "cell_type": "markdown",
   "metadata": {
    "slideshow": {
     "slide_type": "slide"
    }
   },
   "source": [
    "## Operations on a data frame\n",
    "Each column in a data frame works like a vector. Functions can therefore be used on data frame columns like they can be used on vectors:"
   ]
  },
  {
   "cell_type": "code",
   "execution_count": 49,
   "metadata": {
    "slideshow": {
     "slide_type": "fragment"
    }
   },
   "outputs": [
    {
     "data": {
      "text/html": [
       "173.752171008684"
      ],
      "text/latex": [
       "173.752171008684"
      ],
      "text/markdown": [
       "173.752171008684"
      ],
      "text/plain": [
       "[1] 173.7522"
      ]
     },
     "metadata": {},
     "output_type": "display_data"
    }
   ],
   "source": [
    "mean(ess2014_df$height, na.rm = TRUE)"
   ]
  },
  {
   "cell_type": "code",
   "execution_count": 50,
   "metadata": {
    "slideshow": {
     "slide_type": "fragment"
    }
   },
   "outputs": [
    {
     "data": {
      "text/html": [
       "142"
      ],
      "text/latex": [
       "142"
      ],
      "text/markdown": [
       "142"
      ],
      "text/plain": [
       "[1] 142"
      ]
     },
     "metadata": {},
     "output_type": "display_data"
    }
   ],
   "source": [
    "min(ess2014_df$height, na.rm = TRUE)"
   ]
  },
  {
   "cell_type": "code",
   "execution_count": 51,
   "metadata": {
    "slideshow": {
     "slide_type": "fragment"
    }
   },
   "outputs": [
    {
     "data": {
      "text/html": [
       "<ol class=list-inline>\n",
       "\t<li>1.78</li>\n",
       "\t<li>1.72</li>\n",
       "\t<li>1.76</li>\n",
       "\t<li>1.62</li>\n",
       "\t<li>1.75</li>\n",
       "\t<li>1.6</li>\n",
       "</ol>\n"
      ],
      "text/latex": [
       "\\begin{enumerate*}\n",
       "\\item 1.78\n",
       "\\item 1.72\n",
       "\\item 1.76\n",
       "\\item 1.62\n",
       "\\item 1.75\n",
       "\\item 1.6\n",
       "\\end{enumerate*}\n"
      ],
      "text/markdown": [
       "1. 1.78\n",
       "2. 1.72\n",
       "3. 1.76\n",
       "4. 1.62\n",
       "5. 1.75\n",
       "6. 1.6\n",
       "\n",
       "\n"
      ],
      "text/plain": [
       "[1] 1.78 1.72 1.76 1.62 1.75 1.60"
      ]
     },
     "metadata": {},
     "output_type": "display_data"
    }
   ],
   "source": [
    "head(ess2014_df$height / 100) #converting to meters - first 5 rows"
   ]
  },
  {
   "cell_type": "markdown",
   "metadata": {
    "slideshow": {
     "slide_type": "slide"
    }
   },
   "source": [
    "### Data frames and classes\n",
    "As each column in a data frame works like a vector, we can check the class of a column using `class()`."
   ]
  },
  {
   "cell_type": "code",
   "execution_count": 52,
   "metadata": {
    "slideshow": {
     "slide_type": "fragment"
    }
   },
   "outputs": [
    {
     "data": {
      "text/html": [
       "'numeric'"
      ],
      "text/latex": [
       "'numeric'"
      ],
      "text/markdown": [
       "'numeric'"
      ],
      "text/plain": [
       "[1] \"numeric\""
      ]
     },
     "metadata": {},
     "output_type": "display_data"
    }
   ],
   "source": [
    "class(ess2014_df$height)"
   ]
  },
  {
   "cell_type": "code",
   "execution_count": 53,
   "metadata": {
    "slideshow": {
     "slide_type": "fragment"
    }
   },
   "outputs": [
    {
     "data": {
      "text/html": [
       "'factor'"
      ],
      "text/latex": [
       "'factor'"
      ],
      "text/markdown": [
       "'factor'"
      ],
      "text/plain": [
       "[1] \"factor\""
      ]
     },
     "metadata": {},
     "output_type": "display_data"
    }
   ],
   "source": [
    "class(ess2014_df$alcfreq)"
   ]
  },
  {
   "cell_type": "markdown",
   "metadata": {
    "slideshow": {
     "slide_type": "slide"
    }
   },
   "source": [
    "## Creating variables\n",
    "Variables can be added to a data frame using the operator `$` and calling a name not yet used in the data frame:"
   ]
  },
  {
   "cell_type": "code",
   "execution_count": 54,
   "metadata": {
    "slideshow": {
     "slide_type": "-"
    }
   },
   "outputs": [],
   "source": [
    "ess2014_df$height_m <- ess2014_df$height / 100"
   ]
  },
  {
   "cell_type": "markdown",
   "metadata": {
    "slideshow": {
     "slide_type": "fragment"
    }
   },
   "source": [
    "If we want to remove a variable (for example one that does not make sense at all), we can assign it the value `NULL`:"
   ]
  },
  {
   "cell_type": "code",
   "execution_count": 55,
   "metadata": {
    "slideshow": {
     "slide_type": "fragment"
    }
   },
   "outputs": [
    {
     "data": {
      "text/html": [
       "<ol class=list-inline>\n",
       "\t<li>'idno'</li>\n",
       "\t<li>'ppltrst'</li>\n",
       "\t<li>'happy'</li>\n",
       "\t<li>'cgtsday'</li>\n",
       "\t<li>'alcfreq'</li>\n",
       "\t<li>'height'</li>\n",
       "\t<li>'weight'</li>\n",
       "\t<li>'gndr'</li>\n",
       "\t<li>'yrbrn'</li>\n",
       "\t<li>'height_m'</li>\n",
       "</ol>\n"
      ],
      "text/latex": [
       "\\begin{enumerate*}\n",
       "\\item 'idno'\n",
       "\\item 'ppltrst'\n",
       "\\item 'happy'\n",
       "\\item 'cgtsday'\n",
       "\\item 'alcfreq'\n",
       "\\item 'height'\n",
       "\\item 'weight'\n",
       "\\item 'gndr'\n",
       "\\item 'yrbrn'\n",
       "\\item 'height\\_m'\n",
       "\\end{enumerate*}\n"
      ],
      "text/markdown": [
       "1. 'idno'\n",
       "2. 'ppltrst'\n",
       "3. 'happy'\n",
       "4. 'cgtsday'\n",
       "5. 'alcfreq'\n",
       "6. 'height'\n",
       "7. 'weight'\n",
       "8. 'gndr'\n",
       "9. 'yrbrn'\n",
       "10. 'height_m'\n",
       "\n",
       "\n"
      ],
      "text/plain": [
       " [1] \"idno\"     \"ppltrst\"  \"happy\"    \"cgtsday\"  \"alcfreq\"  \"height\"  \n",
       " [7] \"weight\"   \"gndr\"     \"yrbrn\"    \"height_m\""
      ]
     },
     "metadata": {},
     "output_type": "display_data"
    }
   ],
   "source": [
    "colnames(ess2014_df)"
   ]
  },
  {
   "cell_type": "code",
   "execution_count": 56,
   "metadata": {
    "slideshow": {
     "slide_type": "fragment"
    }
   },
   "outputs": [],
   "source": [
    "ess2014_df$height_m <- NULL"
   ]
  },
  {
   "cell_type": "code",
   "execution_count": 57,
   "metadata": {
    "slideshow": {
     "slide_type": "fragment"
    }
   },
   "outputs": [
    {
     "data": {
      "text/html": [
       "<ol class=list-inline>\n",
       "\t<li>'idno'</li>\n",
       "\t<li>'ppltrst'</li>\n",
       "\t<li>'happy'</li>\n",
       "\t<li>'cgtsday'</li>\n",
       "\t<li>'alcfreq'</li>\n",
       "\t<li>'height'</li>\n",
       "\t<li>'weight'</li>\n",
       "\t<li>'gndr'</li>\n",
       "\t<li>'yrbrn'</li>\n",
       "</ol>\n"
      ],
      "text/latex": [
       "\\begin{enumerate*}\n",
       "\\item 'idno'\n",
       "\\item 'ppltrst'\n",
       "\\item 'happy'\n",
       "\\item 'cgtsday'\n",
       "\\item 'alcfreq'\n",
       "\\item 'height'\n",
       "\\item 'weight'\n",
       "\\item 'gndr'\n",
       "\\item 'yrbrn'\n",
       "\\end{enumerate*}\n"
      ],
      "text/markdown": [
       "1. 'idno'\n",
       "2. 'ppltrst'\n",
       "3. 'happy'\n",
       "4. 'cgtsday'\n",
       "5. 'alcfreq'\n",
       "6. 'height'\n",
       "7. 'weight'\n",
       "8. 'gndr'\n",
       "9. 'yrbrn'\n",
       "\n",
       "\n"
      ],
      "text/plain": [
       "[1] \"idno\"    \"ppltrst\" \"happy\"   \"cgtsday\" \"alcfreq\" \"height\"  \"weight\" \n",
       "[8] \"gndr\"    \"yrbrn\"  "
      ]
     },
     "metadata": {},
     "output_type": "display_data"
    }
   ],
   "source": [
    "colnames(ess2014_df)"
   ]
  },
  {
   "cell_type": "markdown",
   "metadata": {
    "slideshow": {
     "slide_type": "slide"
    }
   },
   "source": [
    "# The R Help Files\n",
    "All R functions and commands are thoroughly documented so you do not have to remember what every function does or even how it should be written.\n",
    "\n",
    "Every function and command in R has its own help file. The help file describes how to use the various functions and commands.\n",
    "\n",
    "The help file for a specific function is accessed using the operator `?` (also works for the built-in datasets):"
   ]
  },
  {
   "cell_type": "code",
   "execution_count": 58,
   "metadata": {
    "slideshow": {
     "slide_type": "-"
    }
   },
   "outputs": [],
   "source": [
    "?sum"
   ]
  },
  {
   "cell_type": "markdown",
   "metadata": {
    "slideshow": {
     "slide_type": "fragment"
    }
   },
   "source": [
    "When in doubt, just look up the help file."
   ]
  },
  {
   "cell_type": "markdown",
   "metadata": {
    "slideshow": {
     "slide_type": "slide"
    }
   },
   "source": [
    "# EXERCISE 4: DataFrames\n",
    "\n",
    "1. Create a new variable/column called `bmi` containing the bmi of the respondents.\n",
    "$$BMI = kg/m^2$$ \n",
    "    - (power of 2 in R is written with `**2` or `^2`)\n",
    "2. What is the lowest bmi? Use either `summary()` or `min()`\n",
    "\n",
    "## Bonus exercise\n",
    "\n",
    "1. Look up the help file for the function `which.min` and `which.max` \n",
    "2. Using the functions above, can you determine how many cigarettes (`cgtsday`) the person with the lowest bmi smokes per day? (think how logicals work when subsetting)"
   ]
  },
  {
   "cell_type": "markdown",
   "metadata": {
    "slideshow": {
     "slide_type": "slide"
    }
   },
   "source": [
    "# Saving files \n",
    "\n",
    "Check your directory with `getwd`. Directory can be changed with `setwd`.\n",
    "\n",
    "We can save a .csv-file (comma-separated values) with `write.table`:"
   ]
  },
  {
   "cell_type": "code",
   "execution_count": 59,
   "metadata": {
    "slideshow": {
     "slide_type": "fragment"
    }
   },
   "outputs": [],
   "source": [
    "write.table(ess2014_df, file = \"my_ess2014dk.csv\", sep = \",\", col.names = TRUE)"
   ]
  },
  {
   "cell_type": "markdown",
   "metadata": {
    "slideshow": {
     "slide_type": "fragment"
    }
   },
   "source": [
    "**Code breakdown:**\n",
    "\n",
    "| Code | Description |\n",
    "|:-----|:------------|\n",
    "|`mtcars` | The object we want to save |\n",
    "|`file = \"my_ess2014dk.csv\"` | The filename - .csv for comma-separated values |\n",
    "|`sep = \",\"` | Setting the separator between values to be commas |"
   ]
  },
  {
   "cell_type": "markdown",
   "metadata": {
    "slideshow": {
     "slide_type": "fragment"
    }
   },
   "source": [
    "A .csv-file is a multi-platform format and can be loaded by most statistical software (Excel, STATA, etc.)."
   ]
  },
  {
   "cell_type": "markdown",
   "metadata": {
    "slideshow": {
     "slide_type": "slide"
    }
   },
   "source": [
    "## Reading files\n",
    "\n",
    "Make sure you are in the right working directory (`getwd`)"
   ]
  },
  {
   "cell_type": "code",
   "execution_count": 60,
   "metadata": {
    "slideshow": {
     "slide_type": "-"
    }
   },
   "outputs": [],
   "source": [
    "my_ess2014dk <- read.table(file = \"my_ess2014dk.csv\", header = TRUE, sep = \",\")"
   ]
  },
  {
   "cell_type": "markdown",
   "metadata": {
    "slideshow": {
     "slide_type": "-"
    }
   },
   "source": [
    "**Code breakdown:**\n",
    "\n",
    "| Code | Description |\n",
    "|:-----|:------------|\n",
    "|`file = \"my_mtcars.csv\"` | The filename - .csv for comma-separated values |\n",
    "|`header = TRUE` | Telling R that our data has headers (column names) |\n",
    "|`sep = \",\"` | Telling R what the separator between values is |*"
   ]
  },
  {
   "cell_type": "markdown",
   "metadata": {
    "slideshow": {
     "slide_type": "slide"
    }
   },
   "source": [
    "# R Libraries - Packages \n",
    "\n",
    "R being open source means that a lot of developers are constantly adding new functions to R.\n",
    "These new functions are distributed as *R packages* that can be loaded into the R library.\n",
    "\n",
    "All the commands you have been using so far have been part of the `base` package (ships with R). \n",
    "\n",
    "Packages are installed using (name of package *with* quotes!): \n",
    "\n",
    "`install.packages('packagename')` \n",
    "\n",
    "The functions from the package is loaded into the environment using (name of package *without* quotes!):\n",
    "    \n",
    "`library(packagename)` \n",
    "\n",
    "Information for installed packages can be found using (name of package *with* quotes!):\n",
    "\n",
    "`library(help = 'packagename')` "
   ]
  },
  {
   "cell_type": "markdown",
   "metadata": {
    "slideshow": {
     "slide_type": "slide"
    }
   },
   "source": [
    "# Reading files with `xlsx`\n",
    "\n",
    "Data files come in a variety of formats. Various packages have been developed and are widely used for reading different data formats into R: .csv, .xlsx (Excel), .dta (Stata), .sas7bdat (SAS), .sav (SPSS) and so on.\n",
    "\n",
    "Some very useful packages for reading data includes:\n",
    "- `readr` (for reading and writing .csv and text file formats - faster than the base functions)\n",
    "- `haven` (for reading and writing Stata, SPSS and SAS files)\n",
    "- `xlsx` (for reading and writing excel files)\n",
    "\n",
    "In the following we will take a closer look at `xlsx`."
   ]
  },
  {
   "cell_type": "markdown",
   "metadata": {
    "slideshow": {
     "slide_type": "slide"
    }
   },
   "source": [
    "Start by installing the package and loading it into R.\n",
    "\n",
    "The `library()` function loads packages into R. Packages have to be loaded into R before use. All functions installed are not just immmediately available as that would make R slower and could easily result in conflicts between packages and functions (functions with the same name etc.)\n",
    "\n",
    "Notice that the package name must have quote around it when installing (`install.packages('xlsx')` but not when loading it (`library(xlsx)`).\n",
    "\n",
    "```R\n",
    "install.packages('xlsx')\n",
    "library(xlsx)\n",
    "```"
   ]
  },
  {
   "cell_type": "code",
   "execution_count": 61,
   "metadata": {
    "slideshow": {
     "slide_type": "skip"
    }
   },
   "outputs": [
    {
     "name": "stderr",
     "output_type": "stream",
     "text": [
      "Warning message:\n",
      "\"package 'xlsx' was built under R version 3.6.3\""
     ]
    }
   ],
   "source": [
    "library(xlsx)"
   ]
  },
  {
   "cell_type": "markdown",
   "metadata": {
    "slideshow": {
     "slide_type": "slide"
    }
   },
   "source": [
    "## Working directories\n",
    "\n",
    "Earlier we imported a data set from a URL but what about from the local file system?\n",
    "\n",
    "Unlike a URL, file locations on a local file system (i.e. your personal computer) is not fixed. R has to be told where data is located in order to be able to import it.\n",
    "\n",
    "It is both possible to specify the full path to your file, when importing. \n",
    "\n",
    "Alternatively, you can change R's working directory. The working directory is the location in which R is looking for files. Using working directories is recommended - especially when sharing scripts. That way only the working directory has to be changed instead of all the file paths."
   ]
  },
  {
   "cell_type": "markdown",
   "metadata": {
    "slideshow": {
     "slide_type": "slide"
    }
   },
   "source": [
    "Check the current working directory with `getwd()`:"
   ]
  },
  {
   "cell_type": "code",
   "execution_count": 62,
   "metadata": {
    "slideshow": {
     "slide_type": "fragment"
    }
   },
   "outputs": [
    {
     "data": {
      "text/html": [
       "'D:/OneDrive - Aalborg Universitet/CALDISS/Aktiviteter/workshops_repos/workshop_r-intro/notebooks'"
      ],
      "text/latex": [
       "'D:/OneDrive - Aalborg Universitet/CALDISS/Aktiviteter/workshops\\_repos/workshop\\_r-intro/notebooks'"
      ],
      "text/markdown": [
       "'D:/OneDrive - Aalborg Universitet/CALDISS/Aktiviteter/workshops_repos/workshop_r-intro/notebooks'"
      ],
      "text/plain": [
       "[1] \"D:/OneDrive - Aalborg Universitet/CALDISS/Aktiviteter/workshops_repos/workshop_r-intro/notebooks\""
      ]
     },
     "metadata": {},
     "output_type": "display_data"
    }
   ],
   "source": [
    "getwd() # prints the current working directory"
   ]
  },
  {
   "cell_type": "markdown",
   "metadata": {
    "slideshow": {
     "slide_type": "fragment"
    }
   },
   "source": [
    "`getwd()` tells me that my working directory is in the folder \"notebooks\". This is not the folder where I keep my data!"
   ]
  },
  {
   "cell_type": "markdown",
   "metadata": {
    "slideshow": {
     "slide_type": "slide"
    }
   },
   "source": [
    "The working directory can be changed using `setwd()` and inputting the desired file path:"
   ]
  },
  {
   "cell_type": "code",
   "execution_count": 63,
   "metadata": {
    "slideshow": {
     "slide_type": "fragment"
    }
   },
   "outputs": [],
   "source": [
    "setwd('D:/OneDrive - Aalborg Universitet/CALDISS/Aktiviteter/workshops_repos/workshop_r-intro/data')"
   ]
  },
  {
   "cell_type": "markdown",
   "metadata": {
    "slideshow": {
     "slide_type": "fragment"
    }
   },
   "source": [
    "We can confirm that the directory is changed by calling `getwd()` again:"
   ]
  },
  {
   "cell_type": "code",
   "execution_count": 64,
   "metadata": {
    "slideshow": {
     "slide_type": "-"
    }
   },
   "outputs": [
    {
     "data": {
      "text/html": [
       "'D:/OneDrive - Aalborg Universitet/CALDISS/Aktiviteter/workshops_repos/workshop_r-intro/data'"
      ],
      "text/latex": [
       "'D:/OneDrive - Aalborg Universitet/CALDISS/Aktiviteter/workshops\\_repos/workshop\\_r-intro/data'"
      ],
      "text/markdown": [
       "'D:/OneDrive - Aalborg Universitet/CALDISS/Aktiviteter/workshops_repos/workshop_r-intro/data'"
      ],
      "text/plain": [
       "[1] \"D:/OneDrive - Aalborg Universitet/CALDISS/Aktiviteter/workshops_repos/workshop_r-intro/data\""
      ]
     },
     "metadata": {},
     "output_type": "display_data"
    }
   ],
   "source": [
    "getwd()"
   ]
  },
  {
   "attachments": {},
   "cell_type": "markdown",
   "metadata": {
    "slideshow": {
     "slide_type": "subslide"
    }
   },
   "source": [
    "File paths can often be a cause of problems as it is easy to make errors. Instead of filling in the working directory manually, the working directory can be set using RStudio.\n",
    "\n",
    "Go to \"Session\" > \"Set Working Directory\" > \"Choose Directory\":\n",
    "\n",
    "![wd_rstudio.png](./img/wd_rstudio.png)"
   ]
  },
  {
   "cell_type": "markdown",
   "metadata": {
    "slideshow": {
     "slide_type": "subslide"
    }
   },
   "source": [
    "When set R will execute the `setwd()` command for that directory from the console. That line of code can then be copied into your script:\n",
    "\n",
    "![wd_console.png](./img/wd_console.png)"
   ]
  },
  {
   "cell_type": "markdown",
   "metadata": {
    "slideshow": {
     "slide_type": "slide"
    }
   },
   "source": [
    "## Reading (xlsx) files\n",
    "\n",
    "With the working directory sorted out we are ready to import the data.\n",
    "\n",
    "We are importing an xlsx file using the `xlsx` package but import functions work similarly regardless of packages (i.e. the working directory has to be set for where the data is located).\n",
    "\n",
    "`read.xlsx()` imports an xlsx file. The file has to be assigned an object (otherwise the data is just printed in the console).\n",
    "\n",
    "Remember that an excel file consists of several sheets so `read.xlsx()` expects an arguement for what sheet to import (here we are importing the first sheet (`sheetIndex = 1`) as the file only contains one sheet)."
   ]
  },
  {
   "cell_type": "code",
   "execution_count": 65,
   "metadata": {
    "slideshow": {
     "slide_type": "fragment"
    }
   },
   "outputs": [],
   "source": [
    "mtcars <- read.xlsx(\"mtcars.xlsx\", sheetIndex = 1)"
   ]
  },
  {
   "cell_type": "markdown",
   "metadata": {
    "slideshow": {
     "slide_type": "slide"
    }
   },
   "source": [
    "The data is now loaded into R as a data frame:"
   ]
  },
  {
   "cell_type": "code",
   "execution_count": 66,
   "metadata": {
    "slideshow": {
     "slide_type": "-"
    }
   },
   "outputs": [
    {
     "data": {
      "text/html": [
       "<table>\n",
       "<thead><tr><th scope=col>NA.</th><th scope=col>mpg</th><th scope=col>cyl</th><th scope=col>disp</th><th scope=col>hp</th><th scope=col>drat</th><th scope=col>wt</th><th scope=col>qsec</th><th scope=col>vs</th><th scope=col>am</th><th scope=col>gear</th><th scope=col>carb</th></tr></thead>\n",
       "<tbody>\n",
       "\t<tr><td>Mazda RX4        </td><td>21.0             </td><td>6                </td><td>160              </td><td>110              </td><td>3.90             </td><td>2.620            </td><td>16.46            </td><td>0                </td><td>1                </td><td>4                </td><td>4                </td></tr>\n",
       "\t<tr><td>Mazda RX4 Wag    </td><td>21.0             </td><td>6                </td><td>160              </td><td>110              </td><td>3.90             </td><td>2.875            </td><td>17.02            </td><td>0                </td><td>1                </td><td>4                </td><td>4                </td></tr>\n",
       "\t<tr><td>Datsun 710       </td><td>22.8             </td><td>4                </td><td>108              </td><td> 93              </td><td>3.85             </td><td>2.320            </td><td>18.61            </td><td>1                </td><td>1                </td><td>4                </td><td>1                </td></tr>\n",
       "\t<tr><td>Hornet 4 Drive   </td><td>21.4             </td><td>6                </td><td>258              </td><td>110              </td><td>3.08             </td><td>3.215            </td><td>19.44            </td><td>1                </td><td>0                </td><td>3                </td><td>1                </td></tr>\n",
       "\t<tr><td>Hornet Sportabout</td><td>18.7             </td><td>8                </td><td>360              </td><td>175              </td><td>3.15             </td><td>3.440            </td><td>17.02            </td><td>0                </td><td>0                </td><td>3                </td><td>2                </td></tr>\n",
       "\t<tr><td>Valiant          </td><td>18.1             </td><td>6                </td><td>225              </td><td>105              </td><td>2.76             </td><td>3.460            </td><td>20.22            </td><td>1                </td><td>0                </td><td>3                </td><td>1                </td></tr>\n",
       "</tbody>\n",
       "</table>\n"
      ],
      "text/latex": [
       "\\begin{tabular}{r|llllllllllll}\n",
       " NA. & mpg & cyl & disp & hp & drat & wt & qsec & vs & am & gear & carb\\\\\n",
       "\\hline\n",
       "\t Mazda RX4         & 21.0              & 6                 & 160               & 110               & 3.90              & 2.620             & 16.46             & 0                 & 1                 & 4                 & 4                \\\\\n",
       "\t Mazda RX4 Wag     & 21.0              & 6                 & 160               & 110               & 3.90              & 2.875             & 17.02             & 0                 & 1                 & 4                 & 4                \\\\\n",
       "\t Datsun 710        & 22.8              & 4                 & 108               &  93               & 3.85              & 2.320             & 18.61             & 1                 & 1                 & 4                 & 1                \\\\\n",
       "\t Hornet 4 Drive    & 21.4              & 6                 & 258               & 110               & 3.08              & 3.215             & 19.44             & 1                 & 0                 & 3                 & 1                \\\\\n",
       "\t Hornet Sportabout & 18.7              & 8                 & 360               & 175               & 3.15              & 3.440             & 17.02             & 0                 & 0                 & 3                 & 2                \\\\\n",
       "\t Valiant           & 18.1              & 6                 & 225               & 105               & 2.76              & 3.460             & 20.22             & 1                 & 0                 & 3                 & 1                \\\\\n",
       "\\end{tabular}\n"
      ],
      "text/markdown": [
       "\n",
       "| NA. | mpg | cyl | disp | hp | drat | wt | qsec | vs | am | gear | carb |\n",
       "|---|---|---|---|---|---|---|---|---|---|---|---|\n",
       "| Mazda RX4         | 21.0              | 6                 | 160               | 110               | 3.90              | 2.620             | 16.46             | 0                 | 1                 | 4                 | 4                 |\n",
       "| Mazda RX4 Wag     | 21.0              | 6                 | 160               | 110               | 3.90              | 2.875             | 17.02             | 0                 | 1                 | 4                 | 4                 |\n",
       "| Datsun 710        | 22.8              | 4                 | 108               |  93               | 3.85              | 2.320             | 18.61             | 1                 | 1                 | 4                 | 1                 |\n",
       "| Hornet 4 Drive    | 21.4              | 6                 | 258               | 110               | 3.08              | 3.215             | 19.44             | 1                 | 0                 | 3                 | 1                 |\n",
       "| Hornet Sportabout | 18.7              | 8                 | 360               | 175               | 3.15              | 3.440             | 17.02             | 0                 | 0                 | 3                 | 2                 |\n",
       "| Valiant           | 18.1              | 6                 | 225               | 105               | 2.76              | 3.460             | 20.22             | 1                 | 0                 | 3                 | 1                 |\n",
       "\n"
      ],
      "text/plain": [
       "  NA.               mpg  cyl disp hp  drat wt    qsec  vs am gear carb\n",
       "1 Mazda RX4         21.0 6   160  110 3.90 2.620 16.46 0  1  4    4   \n",
       "2 Mazda RX4 Wag     21.0 6   160  110 3.90 2.875 17.02 0  1  4    4   \n",
       "3 Datsun 710        22.8 4   108   93 3.85 2.320 18.61 1  1  4    1   \n",
       "4 Hornet 4 Drive    21.4 6   258  110 3.08 3.215 19.44 1  0  3    1   \n",
       "5 Hornet Sportabout 18.7 8   360  175 3.15 3.440 17.02 0  0  3    2   \n",
       "6 Valiant           18.1 6   225  105 2.76 3.460 20.22 1  0  3    1   "
      ]
     },
     "metadata": {},
     "output_type": "display_data"
    }
   ],
   "source": [
    "head(mtcars)"
   ]
  },
  {
   "cell_type": "markdown",
   "metadata": {
    "slideshow": {
     "slide_type": "slide"
    }
   },
   "source": [
    "# EXERCISE 7: Writing an excel file\n",
    "\n",
    "You have previously worked with the ESS data set. You should still have the data frame `ess2014_df` (or whatever name you gave it) in your environment.\n",
    "\n",
    "1. Look at the help file for `write.xlsx()` (`?write.xlsx`). Pay special attention to the default state of the arguements `col.names` and `row.names`.\n",
    "2. Save the data frame `ess2014_df` as an excel file *withot* storing the row names."
   ]
  },
  {
   "cell_type": "markdown",
   "metadata": {
    "slideshow": {
     "slide_type": "slide"
    }
   },
   "source": [
    "# Visuazliation in R - `ggplot2`\n",
    "\n",
    "`ggplot2` is a package for creating plots and visuazliation. Histograms, scatterplots, lineplots and so on."
   ]
  },
  {
   "cell_type": "code",
   "execution_count": 67,
   "metadata": {
    "slideshow": {
     "slide_type": "-"
    }
   },
   "outputs": [
    {
     "name": "stderr",
     "output_type": "stream",
     "text": [
      "Warning message:\n",
      "\"package 'ggplot2' was built under R version 3.6.3\""
     ]
    }
   ],
   "source": [
    "library(ggplot2)"
   ]
  },
  {
   "cell_type": "code",
   "execution_count": 68,
   "metadata": {
    "slideshow": {
     "slide_type": "skip"
    }
   },
   "outputs": [],
   "source": [
    "options(repr.plot.width=8, repr.plot.height=4)"
   ]
  },
  {
   "cell_type": "markdown",
   "metadata": {
    "slideshow": {
     "slide_type": "slide"
    }
   },
   "source": [
    "`ggplot()` works in \"layers\". This allows one to combine several graphs into one plot.\n",
    "\n",
    "The basic syntax for `ggplot()` is as follows:\n",
    "- Define the parameters of your plot: data and aesthetics (x-axis, y-axis and colouring options)\n",
    "- Add a graph layer\n",
    "- (add more graph layers)\n",
    "- Set settings for your plot (theme, tick marks and so on)\n",
    "\n",
    "`ggplot2` is incredibly versatile and has a huge amount of functions. Here we will just try out a simple visualization using default settings."
   ]
  },
  {
   "cell_type": "code",
   "execution_count": 69,
   "metadata": {
    "slideshow": {
     "slide_type": "slide"
    }
   },
   "outputs": [
    {
     "name": "stderr",
     "output_type": "stream",
     "text": [
      "Warning message:\n",
      "\"Removed 5 rows containing missing values (geom_point).\""
     ]
    },
    {
     "data": {
      "image/png": "[encoded data removed]",
      "text/plain": [
       "plot without title"
      ]
     },
     "metadata": {},
     "output_type": "display_data"
    }
   ],
   "source": [
    "ggplot(data = ess2014_df, aes(x = yrbrn, y = height, colour = gndr)) + \n",
    "    geom_point(size = 1, position = \"jitter\")"
   ]
  },
  {
   "cell_type": "markdown",
   "metadata": {
    "slideshow": {
     "slide_type": "subslide"
    }
   },
   "source": [
    "**Code breakdown:**\n",
    "\n",
    "| Code | Description |\n",
    "|:-----|:------------|\n",
    "|`data = mtcars` | What data to use |\n",
    "|`aes()` | Sets the aesthetics - parameters for the plot |\n",
    "|`x = wt` | Sets the x-variable - refers to `wt` in the dataset `mtcars` |\n",
    "|`y = mpg` | Sets the y-variable - refers to `mpg` in the dataset `mtcars` |\n",
    "|`colour = am` | Optional colouring of values based on 3rd variable |\n",
    "|`+` | Indicates that the plot is not done |\n",
    "|`geom_point()`| Creates a scatterplot based on the parameters |\n",
    "|`size = 3` | Sets the size of the dots in the scatterplot |"
   ]
  },
  {
   "cell_type": "markdown",
   "metadata": {
    "slideshow": {
     "slide_type": "slide"
    }
   },
   "source": [
    "# EXERCISE 7:  `ggplot2`\n",
    "\n",
    "1. Install the package `ggplot2` and load it.\n",
    "2. Create a histogram of the variable `yrbrn` in the ESS2014DK data with `ggplot` and `geom_histogram()` (one variable, so only x needs to be specified. No colour)\n",
    "3. Create a scatterplot of `yrbrn` and `cgtsday` using `geom_point`. (use arguement `position = \"jitter\"` to make it nicer)."
   ]
  },
  {
   "cell_type": "code",
   "execution_count": 70,
   "metadata": {
    "slideshow": {
     "slide_type": "subslide"
    }
   },
   "outputs": [
    {
     "name": "stderr",
     "output_type": "stream",
     "text": [
      "Warning message:\n",
      "\"Removed 1172 rows containing missing values (geom_point).\""
     ]
    },
    {
     "data": {
      "image/png": "[encoded data removed]",
      "text/plain": [
       "plot without title"
      ]
     },
     "metadata": {},
     "output_type": "display_data"
    }
   ],
   "source": [
    "ggplot(data = ess2014_df, aes(x = yrbrn, y = cgtsday, colour = gndr)) +\n",
    "    geom_point(size = 1, position = \"jitter\")"
   ]
  },
  {
   "cell_type": "markdown",
   "metadata": {
    "slideshow": {
     "slide_type": "slide"
    }
   },
   "source": [
    "# Summation\n",
    "\n",
    "R objects are created using the operator `<-`. R objects can be pretty much anything.\n",
    "\n",
    "Objects are assigned a `class`. The class can be checked with `class(object)`. Classes can be coerced with commands like `as.numeric()` or `as.character()`\n",
    "\n",
    "Vectors are groupings of values. They are created with `c()`. Vectors can be subset using `[]`.\n",
    "\n",
    "Data frames are R's version of a spreadsheet (rows and columns). A column/variable can be selected using `$`. A column/variable can (in most cases) be treated like a vector.\n",
    "\n",
    "Data frames can be subset using `[ , ]` or `$`. Rows are specified before the comma, and columns after the comma.\n",
    "\n",
    "Other functions can be loaded into R via packages.\n",
    "\n",
    "The package `xlsx` can be used for reading and writing excel files.\n",
    "\n",
    "The package `ggplot2` can be used for visualizations."
   ]
  }
 ],
 "metadata": {
  "celltoolbar": "Slideshow",
  "kernelspec": {
   "display_name": "R",
   "language": "R",
   "name": "ir"
  },
  "language_info": {
   "codemirror_mode": "r",
   "file_extension": ".r",
   "mimetype": "text/x-r-source",
   "name": "R",
   "pygments_lexer": "r",
   "version": "3.6.1"
  }
 },
 "nbformat": 4,
 "nbformat_minor": 2
}
