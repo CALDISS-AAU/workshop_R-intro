{
 "cells": [
  {
   "cell_type": "markdown",
   "metadata": {},
   "source": [
    "# Introduction to R for Social Science"
   ]
  },
  {
   "cell_type": "markdown",
   "metadata": {},
   "source": [
    "Ny opbygning af Python intro:\n",
    "\n",
    "- R sproget\n",
    "- Hvad er objekter/variable?\n",
    "    - Øvelse\n",
    "- Hvad er funktioner?/Introduktion til funktioner?\n",
    "- Pakker og import af pakker\n",
    "- Indlæsning af datasæt\n",
    "    - Øvelse: Indlæs pakke og indlæs data\n",
    "- Indblik i data med descriptive measures\n",
    "- DataFrames og vectors\n",
    "- Subsetting data (base R)\n",
    "- Subsetting data (dplyr)\n",
    "  - Øvelse med at lave et subset\n",
    "- Nye variable og rekodning (base R)\n",
    "- Nye variable og rekodning (dplyr)\n",
    "  - Øvelse med ny variable og bonusøvelser fastholdes\n",
    "- Classes i en dataframe\n",
    "  - Øvelse med typekonvertering\n",
    "- Visualisering (enten til sidst eller efter indlæsning af data)\n",
    "  - Øvelse?\n",
    "- Gemme data"
   ]
  },
  {
   "cell_type": "markdown",
   "metadata": {},
   "source": [
    "# Introduction\n",
    "## What is R and why use it?\n",
    "\n",
    "R is a free software environment with its own programming language. \n",
    "\n",
    "It is especailly suited for statistical analysis and graphical outputs.\n",
    "\n",
    "R's popularity as a data science tool as well as it being open source has made its applications vast.\n",
    "\n",
    "R can work with a large variety of data formats and is (with a few add-ons) compatible with data from other software solutions (Excel, SPSS, SAS, Stata)."
   ]
  },
  {
   "cell_type": "markdown",
   "metadata": {
    "slideshow": {
     "slide_type": "slide"
    }
   },
   "source": [
    "## A Short Demo\n",
    "\n",
    "(demo on R Studio server)"
   ]
  },
  {
   "cell_type": "markdown",
   "metadata": {
    "slideshow": {
     "slide_type": "slide"
    }
   },
   "source": [
    "## Content of the R introduction\n",
    "\n",
    "- The RStudio environment\n",
    "- The R language\n",
    "- Constructing variables and objects\n",
    "- Functions and libraries/packages\n",
    "- Working with dataframes (table structure in R)\n",
    "- Simple data handling in R\n",
    "- Simple visualizations in R (`ggplot2` package)\n",
    "\n",
    "The introduction will combine presenting R and R code in Jupyter Notebook while demonstrating in RStudio. You are encouraged to work and write in RStudio during the workshop.\n",
    "\n",
    "*Please write along as we go through the different examples.*"
   ]
  },
  {
   "cell_type": "markdown",
   "metadata": {
    "slideshow": {
     "slide_type": "slide"
    }
   },
   "source": [
    "## The RStudio environment\n",
    "\n",
    "During the workshop (and the other R workshops in CALDISS), we will be working with RStudio.\n",
    "\n",
    "RStudio is an IDE for R (Integrated Development Environment) - Makes for a nicer workspace\n",
    "\n",
    "<https://www.rstudio.com/products/rstudio/download/>"
   ]
  },
  {
   "cell_type": "markdown",
   "metadata": {
    "slideshow": {
     "slide_type": "slide"
    }
   },
   "source": [
    "# The R language\n",
    "R has it's own programming language. R works by you writing lines of code in that language (writing commands) and R interpreting that code (running commands).\n",
    "\n",
    "R (and RStudio) has a limited user interface meaning almost all functionality (statistics, plots, simulations etc.) must be executed using code in the R language.\n",
    "\n",
    "## R as a calculator\n",
    "So what does it mean that R interprets our code?\n",
    "It means that you tell R to do something by writing a command and R will do that (if R can understand you).\n",
    "\n",
    "R, for example, understands mathematical expressions:"
   ]
  },
  {
   "cell_type": "code",
   "execution_count": null,
   "metadata": {},
   "outputs": [],
   "source": []
  },
  {
   "cell_type": "markdown",
   "metadata": {
    "slideshow": {
     "slide_type": "slide"
    }
   },
   "source": [
    "# The R Language: Objects and Functions\n",
    "\n",
    "R works by storing values and information in \"objects\". These objects can then be used in various commands like calculating a statistical model, saving a file, creating a graph and so on. To simplify a bit: An object is some kind of stored information and a function is something that can manipulate that stored information (which then creates a new object). \n",
    "\n",
    "Most of R can be boiled down to these 3 basic steps:\n",
    "\n",
    "1. Assign values to an object\n",
    "2. Make sure R interprets the object correctly (its class)\n",
    "3. Perfom some operation or manipulation on the object using a function"
   ]
  },
  {
   "cell_type": "markdown",
   "metadata": {
    "slideshow": {
     "slide_type": "fragment"
    }
   },
   "source": [
    "Translated to data analysis, the steps would (in general terms) look as follows:\n",
    "\n",
    "1. Load our dataset: `data <- read.csv(\"my_datafile.csv\")`\n",
    "2. Check the that the variables are the correct class: `class(data$age)`\n",
    "3. Perform some kind of analysis: `mean(data$age)`\n",
    "\n",
    "The gap between these steps of course vary greatly."
   ]
  },
  {
   "cell_type": "markdown",
   "metadata": {
    "slideshow": {
     "slide_type": "slide"
    }
   },
   "source": [
    "## Objects\n",
    "\n",
    "A lot of writing in R is about defining objects: A name to use to call up stored information.\n",
    "\n",
    "Objects can be a lot of things: \n",
    "- a word\n",
    "- a number\n",
    "- a series of numbers\n",
    "- a dataset \n",
    "- a URL\n",
    "- a formula\n",
    "- a result \n",
    "- a filepath\n",
    "- a series of datasets\n",
    "- and so on...\n",
    "\n",
    "When an object is defined, it is available in the current working space (or environment).\n",
    "\n",
    "This makes it possible to store and work with a variety of informaiton simultaneously."
   ]
  },
  {
   "cell_type": "markdown",
   "metadata": {
    "slideshow": {
     "slide_type": "slide"
    }
   },
   "source": [
    "### Defining objects\n",
    "Objects are defined using the `<-` operator (`Alt` + `-`):"
   ]
  },
  {
   "cell_type": "code",
   "execution_count": 11,
   "metadata": {},
   "outputs": [],
   "source": [
    "year <- 1964"
   ]
  },
  {
   "cell_type": "code",
   "execution_count": 2,
   "metadata": {},
   "outputs": [
    {
     "data": {
      "text/html": [
       "1964"
      ],
      "text/latex": [
       "1964"
      ],
      "text/markdown": [
       "1964"
      ],
      "text/plain": [
       "[1] 1964"
      ]
     },
     "metadata": {},
     "output_type": "display_data"
    }
   ],
   "source": [
    "year"
   ]
  },
  {
   "cell_type": "markdown",
   "metadata": {},
   "source": [
    "When defined the object can be used like any other numeric value."
   ]
  },
  {
   "cell_type": "code",
   "execution_count": 6,
   "metadata": {},
   "outputs": [
    {
     "data": {
      "text/html": [
       "1974"
      ],
      "text/latex": [
       "1974"
      ],
      "text/markdown": [
       "1974"
      ],
      "text/plain": [
       "[1] 1974"
      ]
     },
     "metadata": {},
     "output_type": "display_data"
    }
   ],
   "source": [
    "year + 10"
   ]
  },
  {
   "cell_type": "markdown",
   "metadata": {
    "slideshow": {
     "slide_type": "-"
    }
   },
   "source": [
    "Using `' '` or `\" \"` denotes that the input should be read as text. *This also applies to numbers!*"
   ]
  },
  {
   "cell_type": "code",
   "execution_count": 3,
   "metadata": {},
   "outputs": [],
   "source": [
    "name <-  \"keenan\""
   ]
  },
  {
   "cell_type": "code",
   "execution_count": 4,
   "metadata": {},
   "outputs": [
    {
     "data": {
      "text/html": [
       "'keenan'"
      ],
      "text/latex": [
       "'keenan'"
      ],
      "text/markdown": [
       "'keenan'"
      ],
      "text/plain": [
       "[1] \"keenan\""
      ]
     },
     "metadata": {},
     "output_type": "display_data"
    }
   ],
   "source": [
    "name"
   ]
  },
  {
   "cell_type": "code",
   "execution_count": 8,
   "metadata": {},
   "outputs": [],
   "source": [
    "year_now  <- '2021'"
   ]
  },
  {
   "cell_type": "code",
   "execution_count": 9,
   "metadata": {},
   "outputs": [
    {
     "data": {
      "text/html": [
       "'2021'"
      ],
      "text/latex": [
       "'2021'"
      ],
      "text/markdown": [
       "'2021'"
      ],
      "text/plain": [
       "[1] \"2021\""
      ]
     },
     "metadata": {},
     "output_type": "display_data"
    }
   ],
   "source": [
    "year_now"
   ]
  },
  {
   "cell_type": "markdown",
   "metadata": {},
   "source": [
    "Notice that numbers stored as text will be enclosed in quotes. Numbers stored as text cannot immediately be used as numbers:"
   ]
  },
  {
   "cell_type": "code",
   "execution_count": 10,
   "metadata": {},
   "outputs": [
    {
     "ename": "ERROR",
     "evalue": "Error in year_now - 5: non-numeric argument to binary operator\n",
     "output_type": "error",
     "traceback": [
      "Error in year_now - 5: non-numeric argument to binary operator\nTraceback:\n"
     ]
    }
   ],
   "source": [
    "year_now - 5"
   ]
  },
  {
   "cell_type": "markdown",
   "metadata": {},
   "source": [
    "This error happens because R differentiates between objects by assigning them to a specific *class*. The class denotes what is possible with the object."
   ]
  },
  {
   "cell_type": "markdown",
   "metadata": {
    "slideshow": {
     "slide_type": "slide"
    }
   },
   "source": [
    "### Naming objects\n",
    "Objects can be named almost anything but a good rule of thumb is to use names that are indicative of what the object contains.\n",
    "\n",
    "#### Restrictions for naming objects\n",
    "- Most special characters not allowed: `/`, `?`, `*`, `+` and so on (most characters mean something to R and will be read as an expression)\n",
    "- Already existing names in R (will overwrite the function/object in the environment)\n",
    "\n",
    "#### Good naming conventions \n",
    "- Using '`_`': `my_object`, `room_number`\n",
    "\n",
    "or:\n",
    "\n",
    "- Capitalize each word except the first: `myObject`, `roomNumber`"
   ]
  },
  {
   "cell_type": "markdown",
   "metadata": {
    "slideshow": {
     "slide_type": "slide"
    }
   },
   "source": [
    "## Functions\n",
    "\n",
    "Functions are commands used to transform an object in some way and give an output.\n",
    "\n",
    "The input to a function is an \"arguement\". The number of arguements vary between function.\n",
    "\n",
    "Functions have the basic syntax: `function(arg1, arg2, arg3)`.\n",
    "\n",
    "Some arguements are required while others are optional."
   ]
  },
  {
   "cell_type": "code",
   "execution_count": 15,
   "metadata": {
    "slideshow": {
     "slide_type": "fragment"
    }
   },
   "outputs": [
    {
     "data": {
      "text/html": [
       "'KILMISTER'"
      ],
      "text/latex": [
       "'KILMISTER'"
      ],
      "text/markdown": [
       "'KILMISTER'"
      ],
      "text/plain": [
       "[1] \"KILMISTER\""
      ]
     },
     "metadata": {},
     "output_type": "display_data"
    }
   ],
   "source": [
    "name <- 'kilmister'\n",
    "toupper(name) #Returns the object in upper-case"
   ]
  },
  {
   "cell_type": "markdown",
   "metadata": {
    "slideshow": {
     "slide_type": "fragment"
    }
   },
   "source": [
    "Most functions take the object as the first input but not all."
   ]
  },
  {
   "cell_type": "code",
   "execution_count": 20,
   "metadata": {},
   "outputs": [
    {
     "data": {
      "text/html": [
       "'kilmistar'"
      ],
      "text/latex": [
       "'kilmistar'"
      ],
      "text/markdown": [
       "'kilmistar'"
      ],
      "text/plain": [
       "[1] \"kilmistar\""
      ]
     },
     "metadata": {},
     "output_type": "display_data"
    }
   ],
   "source": [
    "gsub(\"e\", \"a\", name) #Replace all e's with a's"
   ]
  },
  {
   "cell_type": "markdown",
   "metadata": {
    "slideshow": {
     "slide_type": "slide"
    }
   },
   "source": [
    "### Functions and their outputs\n",
    "\n",
    "Note that functions almost *never* change the object. When calling functions you are asking R for a specific output but not to change anything.\n",
    "\n",
    "Output of a function have to be stored in objects, if to be stored"
   ]
  },
  {
   "cell_type": "code",
   "execution_count": 21,
   "metadata": {},
   "outputs": [
    {
     "data": {
      "text/html": [
       "'kilmister'"
      ],
      "text/latex": [
       "'kilmister'"
      ],
      "text/markdown": [
       "'kilmister'"
      ],
      "text/plain": [
       "[1] \"kilmister\""
      ]
     },
     "metadata": {},
     "output_type": "display_data"
    }
   ],
   "source": [
    "name # Unchanged even though used in objects"
   ]
  },
  {
   "cell_type": "code",
   "execution_count": 22,
   "metadata": {},
   "outputs": [],
   "source": [
    "name <- gsub(\"e\", \"a\", name) # Store object with characters \"e\" swapped with \"a\" - replacing the object"
   ]
  },
  {
   "cell_type": "code",
   "execution_count": 23,
   "metadata": {},
   "outputs": [
    {
     "data": {
      "text/html": [
       "'kilmistar'"
      ],
      "text/latex": [
       "'kilmistar'"
      ],
      "text/markdown": [
       "'kilmistar'"
      ],
      "text/plain": [
       "[1] \"kilmistar\""
      ]
     },
     "metadata": {},
     "output_type": "display_data"
    }
   ],
   "source": [
    "name"
   ]
  },
  {
   "cell_type": "markdown",
   "metadata": {
    "slideshow": {
     "slide_type": "slide"
    }
   },
   "source": [
    "# EXERCISE 1: OBJECTS AND FUNCTIONS\n",
    "\n",
    "1. Define the following objects:\n",
    "\n",
    "    - `name1`: `\"araya\"`\n",
    "    - `name2`: `\"townsend\"`\n",
    "    - `year1`: `1961` (without quotation marks)\n",
    "    - `year2`: `\"1972\"` (with quotation marks)\n",
    "\n",
    "2. Try calculating the ages for `year1` and `year2` (current year - year-object). \n",
    "\n",
    "3. Use the function `toupper()` to convert `name1` to upper-case."
   ]
  },
  {
   "cell_type": "markdown",
   "metadata": {
    "slideshow": {
     "slide_type": "slide"
    }
   },
   "source": [
    "# EXERCISE 1: DEFINING OBJECTS\n",
    "*What happens?*"
   ]
  },
  {
   "cell_type": "code",
   "execution_count": 27,
   "metadata": {},
   "outputs": [],
   "source": [
    "name1 <- \"araya\"\n",
    "name2 <- \"townsend\"\n",
    "year1 <- 1961\n",
    "year2 <- \"1972\""
   ]
  },
  {
   "cell_type": "code",
   "execution_count": 28,
   "metadata": {},
   "outputs": [
    {
     "data": {
      "text/html": [
       "60"
      ],
      "text/latex": [
       "60"
      ],
      "text/markdown": [
       "60"
      ],
      "text/plain": [
       "[1] 60"
      ]
     },
     "metadata": {},
     "output_type": "display_data"
    }
   ],
   "source": [
    "age1 <- 2021 - year1 # Works fine\n",
    "\n",
    "age1"
   ]
  },
  {
   "cell_type": "code",
   "execution_count": 30,
   "metadata": {},
   "outputs": [
    {
     "ename": "ERROR",
     "evalue": "Error in 2021 - year2: non-numeric argument to binary operator\n",
     "output_type": "error",
     "traceback": [
      "Error in 2021 - year2: non-numeric argument to binary operator\nTraceback:\n"
     ]
    }
   ],
   "source": [
    "age2 <- 2021 - year2 # Produces an error"
   ]
  },
  {
   "cell_type": "code",
   "execution_count": 31,
   "metadata": {},
   "outputs": [
    {
     "data": {
      "text/html": [
       "'ARAYA'"
      ],
      "text/latex": [
       "'ARAYA'"
      ],
      "text/markdown": [
       "'ARAYA'"
      ],
      "text/plain": [
       "[1] \"ARAYA\""
      ]
     },
     "metadata": {},
     "output_type": "display_data"
    }
   ],
   "source": [
    "name1 <- toupper(name1)\n",
    "\n",
    "name1"
   ]
  },
  {
   "cell_type": "markdown",
   "metadata": {
    "slideshow": {
     "slide_type": "slide"
    }
   },
   "source": [
    "# R Libraries - Packages \n",
    "\n",
    "R being open source means that a lot of developers are constantly adding new functions to R.\n",
    "These new functions are distributed as *R packages* that can be loaded into the R library.\n",
    "\n",
    "All the commands you have been using so far have been part of the `base` package (ships with R). \n",
    "\n",
    "Packages are installed using (name of package *with* quotes!): \n",
    "\n",
    "`install.packages('packagename')` \n",
    "\n",
    "The functions from the package is loaded into the environment using (name of package *without* quotes!):\n",
    "    \n",
    "`library(packagename)` \n",
    "\n",
    "Information for installed packages can be found using (name of package *with* quotes!):\n",
    "\n",
    "`library(help = 'packagename')` "
   ]
  },
  {
   "cell_type": "markdown",
   "metadata": {},
   "source": [
    "## Importing data with `readr`\n",
    "\n",
    "`readr` is a package for reading various data files into R.\n",
    "\n",
    "R does have some \"base\" functions for doing this but `readr` is more efficient.\n",
    "\n",
    "`readr` is part of a collection of packages called `tidyverse`: https://www.tidyverse.org/"
   ]
  },
  {
   "cell_type": "code",
   "execution_count": 32,
   "metadata": {},
   "outputs": [
    {
     "name": "stderr",
     "output_type": "stream",
     "text": [
      "Warning message:\n",
      "\"Missing column names filled in: 'X1' [1]\"Parsed with column specification:\n",
      "cols(\n",
      "  X1 = col_double(),\n",
      "  idno = col_double(),\n",
      "  netustm = col_double(),\n",
      "  ppltrst = col_double(),\n",
      "  vote = col_character(),\n",
      "  prtvtddk = col_character(),\n",
      "  lvpntyr = col_character(),\n",
      "  tygrtr = col_character(),\n",
      "  gndr = col_character(),\n",
      "  yrbrn = col_double(),\n",
      "  edlvddk = col_character(),\n",
      "  eduyrs = col_double(),\n",
      "  wkhct = col_double(),\n",
      "  wkhtot = col_double(),\n",
      "  grspnum = col_double(),\n",
      "  frlgrsp = col_double(),\n",
      "  inwtm = col_double()\n",
      ")\n"
     ]
    }
   ],
   "source": [
    "library(readr)\n",
    "\n",
    "data <- read_csv(\"https://github.com/CALDISS-AAU/workshop_R-intro/raw/master/data/ESS2018DK_subset.csv\")"
   ]
  },
  {
   "cell_type": "markdown",
   "metadata": {},
   "source": [
    "- Pakker og import af pakker\n",
    "- Indlæsning af datasæt\n",
    "    - Øvelse: Indlæs pakke og indlæs data\n",
    "- Indblik i data med descriptive measures\n",
    "- DataFrames og vectors\n",
    "- Subsetting data (base R)\n",
    "- Subsetting data (dplyr)\n",
    "  - Øvelse med at lave et subset\n",
    "- Nye variable og rekodning (base R)\n",
    "- Nye variable og rekodning (dplyr)\n",
    "  - Øvelse med ny variable og bonusøvelser fastholdes\n",
    "- Classes i en dataframe\n",
    "  - Øvelse med typekonvertering\n",
    "- Visualisering (enten til sidst eller efter indlæsning af data)\n",
    "  - Øvelse?\n",
    "- Gemme data"
   ]
  }
 ],
 "metadata": {
  "celltoolbar": "Slideshow",
  "kernelspec": {
   "display_name": "R",
   "language": "R",
   "name": "ir"
  },
  "language_info": {
   "codemirror_mode": "r",
   "file_extension": ".r",
   "mimetype": "text/x-r-source",
   "name": "R",
   "pygments_lexer": "r",
   "version": "3.6.1"
  }
 },
 "nbformat": 4,
 "nbformat_minor": 4
}
