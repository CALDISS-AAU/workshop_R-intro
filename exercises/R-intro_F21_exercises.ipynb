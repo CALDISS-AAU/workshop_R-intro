{
 "cells": [
  {
   "cell_type": "markdown",
   "metadata": {
    "slideshow": {
     "slide_type": "slide"
    }
   },
   "source": [
    "# EXERCISE 1: OBJECTS AND FUNCTIONS\n",
    "\n",
    "1. Define the following objects:\n",
    "\n",
    "    - `name1`: `\"araya\"`\n",
    "    - `name2`: `\"townsend\"`\n",
    "    - `year1`: `1961` (without quotation marks)\n",
    "    - `year2`: `\"1972\"` (with quotation marks)\n",
    "\n",
    "2. Try calculating the ages for `year1` and `year2` (current year - year-object). \n",
    "\n",
    "3. Use the function `toupper()` to convert `name1` to upper-case."
   ]
  },
  {
   "cell_type": "markdown",
   "metadata": {
    "slideshow": {
     "slide_type": "slide"
    }
   },
   "source": [
    "# EXERCISE 2: READING DATA\n",
    "\n",
    "Use the function `read_csv` from the package `readr` to import the ESS2018 subset.\n",
    "\n",
    "1. Install the package `readr` (`install.packages(\"readr\")`)\n",
    "2. Load the package (`library(readr)`) \n",
    "3. Load the data using `read_csv(\"https://github.com/CALDISS-AAU/workshop_R-intro/raw/master/data/ESS2018DK_subset.csv\")` - remember to assign the data to an object!"
   ]
  },
  {
   "cell_type": "markdown",
   "metadata": {
    "slideshow": {
     "slide_type": "slide"
    }
   },
   "source": [
    "# EXERCISE 3: DESCRIPTIVE MEASURES\n",
    "\n",
    "Use some of the functions for calculating descriptive measures to calculate the following:\n",
    "\n",
    "- The mean (`mean()`) time used on the internet per day (`netustm`)\n",
    "- The highest value (`max()`) for time used on the internet per day (`netustm`)\n",
    "- The median (`median()`) for monthly gross pay (`grspnum`)\n",
    "\n",
    "NOTE! The variables may contain missing values. Consult the documentation of the functions to see how to account for that."
   ]
  },
  {
   "cell_type": "markdown",
   "metadata": {
    "slideshow": {
     "slide_type": "slide"
    }
   },
   "source": [
    "# EXERCISE 4: FILTERING AND SELECTING\n",
    "\n",
    "1. Create a subset of the data containing females born after 1980 with the variables: `idno`, `gndr`, `yrbrn`, `netustm`\n",
    "\n",
    "2. Use `head()` to check if the subset looks correct\n",
    "\n",
    "2. Calculate the mean time used on the internet per day (`netustm`) for the subset\n",
    "\n",
    "\n",
    "## Bonus exercise\n",
    "\n",
    "1. Create a subset for males born after 1980\n",
    "2. Calculate the mean time used on the internet per day for this subset - is it higher or lower than the subset for females?"
   ]
  },
  {
   "cell_type": "markdown",
   "metadata": {
    "slideshow": {
     "slide_type": "slide"
    }
   },
   "source": [
    "# EXERCISE 5: CREATING VARIABLES\n",
    "\n",
    "1. Create an age variable (the dataset is from 2018)\n",
    "\n",
    "2. Create a variable containing the difference between hours worked per week (`wkhtot`) and hours contracted per week (`wkhct`).\n",
    "\n",
    "3. What is the highest overtime value? (use either `summary()` or `min()`\n",
    "\n",
    "\n",
    "## Bonus exercise\n",
    "\n",
    "Find out the age and gender of the person with the highest overtime value."
   ]
  },
  {
   "cell_type": "markdown",
   "metadata": {
    "slideshow": {
     "slide_type": "slide"
    }
   },
   "source": [
    "# EXERCISE 6: CLASS COERCION\n",
    "\n",
    "Create a variable containing the number of years the respondent lived at home before living separately for 2 months or more (`lvpntyr`)\n",
    "\n",
    "Note that the variable `lvpntyr` might not be ready for calculations right away. \n",
    "\n",
    "Remember that `as.numeric()` converts values to numeric."
   ]
  },
  {
   "cell_type": "markdown",
   "metadata": {
    "slideshow": {
     "slide_type": "slide"
    }
   },
   "source": [
    "# EXERCISE 7:  VISUALIZATION USING `ggplot2`\n",
    "\n",
    "1. Install the package `ggplot2` and load it.\n",
    "2. Create a scatterplot using the age variable on the x-axis and the variable for overtime hours on the y-axis using `geom_point`. (use arguement `position = \"jitter\"` to make it nicer).\n",
    "\n",
    "## Bonus exercise\n",
    "\n",
    "Outliers are reducing the usefulness of this visualization. Can you think of a way to exclude these?"
   ]
  }
 ],
 "metadata": {
  "celltoolbar": "Slideshow",
  "kernelspec": {
   "display_name": "Python 3",
   "language": "python",
   "name": "python3"
  },
  "language_info": {
   "codemirror_mode": {
    "name": "ipython",
    "version": 3
   },
   "file_extension": ".py",
   "mimetype": "text/x-python",
   "name": "python",
   "nbconvert_exporter": "python",
   "pygments_lexer": "ipython3",
   "version": "3.7.9"
  }
 },
 "nbformat": 4,
 "nbformat_minor": 4
}
